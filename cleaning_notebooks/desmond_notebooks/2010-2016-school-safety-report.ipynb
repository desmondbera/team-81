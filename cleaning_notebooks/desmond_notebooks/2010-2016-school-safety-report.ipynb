{
 "cells": [
  {
   "cell_type": "code",
   "execution_count": 6,
   "id": "29d75028",
   "metadata": {},
   "outputs": [],
   "source": [
    "import pandas as pd\n",
    "import numpy as np\n"
   ]
  },
  {
   "cell_type": "code",
   "execution_count": 23,
   "id": "ec259218",
   "metadata": {},
   "outputs": [],
   "source": [
    "def lower_case_col_names(df):\n",
    "    return df.rename(columns=str.lower, inplace=True)\n",
    "def rename_col_from(col_name, col_name_change, df):\n",
    "    return df.rename(columns={col_name: col_name_change}, inplace=True)\n",
    "def save_df_to_csv(df, file_name, year):\n",
    "    df.to_csv(file_name+'_' + year +'.csv', encoding='utf-8')"
   ]
  },
  {
   "cell_type": "code",
   "execution_count": 24,
   "id": "94ed899b",
   "metadata": {},
   "outputs": [],
   "source": [
    "url_school_safety_report = 'https://raw.githubusercontent.com/desmondbera/team-81/main/data_sets/original_data_sets/blue_team/2010_-_2016_School_Safety_Report.csv'\n",
    "df_school_safety = pd.read_csv(url_school_safety_report)\n",
    "\n",
    "# 1 - Drop all columns we are not using\n",
    "cols_to_remove = (\n",
    "    ['Location Code', 'Geographical District Code', 'Building Name', 'BBL', 'NTA',\n",
    "        'BIN', 'Census Tract', 'Council District ', 'Community Board', 'Postcode',\n",
    "         'AvgOfMajor N', 'AvgOfOth N', 'AvgOfNoCrim N','AvgOfProp N','AvgOfVio N',\n",
    "         'Borough Name', '# Schools', 'Schools in Building'\n",
    "    ]\n",
    ")\n",
    "final_df_school_safety = df_school_safety.drop(columns=cols_to_remove)\n",
    "\n",
    "# 2 - lower case all column names\n",
    "lower_case_col_names(final_df_school_safety)\n",
    "\n",
    "# 3 - rename cols to be more descriptive\n",
    "rename_col_from('school year', 'year', final_df_school_safety)\n",
    "rename_col_from('building code', 'building_code', final_df_school_safety)\n",
    "rename_col_from('location name', 'location_name', final_df_school_safety)\n",
    "rename_col_from('major n', 'major_crimes', final_df_school_safety)\n",
    "rename_col_from('oth n', 'other_crimes', final_df_school_safety)\n",
    "rename_col_from('nocrim n', 'non_criminal', final_df_school_safety)\n",
    "rename_col_from('prop n', 'property_crimes', final_df_school_safety)\n",
    "rename_col_from('vio n', 'violent_crimes', final_df_school_safety)\n",
    "rename_col_from('engroupa', 'population_group', final_df_school_safety)\n",
    "rename_col_from('rangea', 'population_range', final_df_school_safety)\n",
    "\n",
    "save_df_to_csv(final_df_school_safety, 'clean_df_school_safety', '2010-2016')\n",
    "\n",
    "# print(final_df_school_safety.columns)\n",
    "# print(final_df_school_safety.info())"
   ]
  }
 ],
 "metadata": {
  "kernelspec": {
   "display_name": "Python 3",
   "language": "python",
   "name": "python3"
  },
  "language_info": {
   "codemirror_mode": {
    "name": "ipython",
    "version": 3
   },
   "file_extension": ".py",
   "mimetype": "text/x-python",
   "name": "python",
   "nbconvert_exporter": "python",
   "pygments_lexer": "ipython3",
   "version": "3.8.8"
  }
 },
 "nbformat": 4,
 "nbformat_minor": 5
}
