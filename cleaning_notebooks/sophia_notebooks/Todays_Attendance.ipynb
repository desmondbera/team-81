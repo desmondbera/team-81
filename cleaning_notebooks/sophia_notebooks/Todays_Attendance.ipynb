{
 "cells": [
  {
   "cell_type": "code",
   "execution_count": 1,
   "id": "6fab4e29",
   "metadata": {},
   "outputs": [
    {
     "name": "stdout",
     "output_type": "stream",
     "text": [
      "Requirement already satisfied: numpy in /opt/conda/lib/python3.8/site-packages (from -r requirements.txt (line 1)) (1.20.2)\n",
      "Requirement already satisfied: pandas in /opt/conda/lib/python3.8/site-packages (from -r requirements.txt (line 2)) (1.2.4)\n",
      "Collecting sklearn\n",
      "  Using cached sklearn-0.0-py2.py3-none-any.whl\n",
      "Requirement already satisfied: python-dateutil>=2.7.3 in /opt/conda/lib/python3.8/site-packages (from pandas->-r requirements.txt (line 2)) (2.8.1)\n",
      "Requirement already satisfied: pytz>=2017.3 in /opt/conda/lib/python3.8/site-packages (from pandas->-r requirements.txt (line 2)) (2021.1)\n",
      "Requirement already satisfied: six>=1.5 in /opt/conda/lib/python3.8/site-packages (from python-dateutil>=2.7.3->pandas->-r requirements.txt (line 2)) (1.15.0)\n",
      "Collecting scikit-learn\n",
      "  Using cached scikit_learn-0.24.2-cp38-cp38-manylinux2010_x86_64.whl (24.9 MB)\n",
      "Collecting joblib>=0.11\n",
      "  Using cached joblib-1.0.1-py3-none-any.whl (303 kB)\n",
      "Collecting threadpoolctl>=2.0.0\n",
      "  Using cached threadpoolctl-2.1.0-py3-none-any.whl (12 kB)\n",
      "Collecting scipy>=0.19.1\n",
      "  Using cached scipy-1.6.3-cp38-cp38-manylinux1_x86_64.whl (27.2 MB)\n",
      "Installing collected packages: threadpoolctl, scipy, joblib, scikit-learn, sklearn\n",
      "Successfully installed joblib-1.0.1 scikit-learn-0.24.2 scipy-1.6.3 sklearn-0.0 threadpoolctl-2.1.0\n"
     ]
    }
   ],
   "source": [
    "!pip install -r requirements.txt"
   ]
  },
  {
   "cell_type": "code",
   "execution_count": 2,
   "id": "4ae44c01",
   "metadata": {},
   "outputs": [],
   "source": [
    "import sklearn\n",
    "import numpy as np\n",
    "import pandas as pd"
   ]
  },
  {
   "cell_type": "code",
   "execution_count": 3,
   "id": "51cdcf93",
   "metadata": {
    "scrolled": true
   },
   "outputs": [
    {
     "data": {
      "text/html": [
       "<div>\n",
       "<style scoped>\n",
       "    .dataframe tbody tr th:only-of-type {\n",
       "        vertical-align: middle;\n",
       "    }\n",
       "\n",
       "    .dataframe tbody tr th {\n",
       "        vertical-align: top;\n",
       "    }\n",
       "\n",
       "    .dataframe thead th {\n",
       "        text-align: right;\n",
       "    }\n",
       "</style>\n",
       "<table border=\"1\" class=\"dataframe\">\n",
       "  <thead>\n",
       "    <tr style=\"text-align: right;\">\n",
       "      <th></th>\n",
       "      <th>DBN</th>\n",
       "      <th>School_Name</th>\n",
       "      <th>ATTN_PCT</th>\n",
       "      <th>OnlinePresence</th>\n",
       "      <th>InPersonPresence</th>\n",
       "      <th>Borough</th>\n",
       "      <th>DistrictCode</th>\n",
       "      <th>ATTN_DATE_YMD</th>\n",
       "    </tr>\n",
       "  </thead>\n",
       "  <tbody>\n",
       "    <tr>\n",
       "      <th>0</th>\n",
       "      <td>01M015</td>\n",
       "      <td>P.S. 015 ROBERTO CLEMENTE</td>\n",
       "      <td>91.25</td>\n",
       "      <td>89.02</td>\n",
       "      <td>93.06</td>\n",
       "      <td>Manhattan</td>\n",
       "      <td>1</td>\n",
       "      <td>6/2/2021 0:00</td>\n",
       "    </tr>\n",
       "    <tr>\n",
       "      <th>1</th>\n",
       "      <td>01M019</td>\n",
       "      <td>P.S. 019 ASHER LEVY</td>\n",
       "      <td>93.23</td>\n",
       "      <td>94.08</td>\n",
       "      <td>89.47</td>\n",
       "      <td>Manhattan</td>\n",
       "      <td>1</td>\n",
       "      <td>6/2/2021 0:00</td>\n",
       "    </tr>\n",
       "    <tr>\n",
       "      <th>2</th>\n",
       "      <td>01M020</td>\n",
       "      <td>P.S. 020 ANNA SILVER</td>\n",
       "      <td>92.64</td>\n",
       "      <td>91.80</td>\n",
       "      <td>95.14</td>\n",
       "      <td>Manhattan</td>\n",
       "      <td>1</td>\n",
       "      <td>6/2/2021 0:00</td>\n",
       "    </tr>\n",
       "    <tr>\n",
       "      <th>3</th>\n",
       "      <td>01M034</td>\n",
       "      <td>P.S. 034 FRANKLIN D. ROOSEVELT</td>\n",
       "      <td>90.32</td>\n",
       "      <td>87.56</td>\n",
       "      <td>95.74</td>\n",
       "      <td>Manhattan</td>\n",
       "      <td>1</td>\n",
       "      <td>6/2/2021 0:00</td>\n",
       "    </tr>\n",
       "    <tr>\n",
       "      <th>4</th>\n",
       "      <td>01M063</td>\n",
       "      <td>THE STAR ACADEMY P.S.63</td>\n",
       "      <td>93.33</td>\n",
       "      <td>90.00</td>\n",
       "      <td>98.75</td>\n",
       "      <td>Manhattan</td>\n",
       "      <td>1</td>\n",
       "      <td>6/2/2021 0:00</td>\n",
       "    </tr>\n",
       "  </tbody>\n",
       "</table>\n",
       "</div>"
      ],
      "text/plain": [
       "      DBN                     School_Name ATTN_PCT  OnlinePresence  \\\n",
       "0  01M015       P.S. 015 ROBERTO CLEMENTE    91.25           89.02   \n",
       "1  01M019             P.S. 019 ASHER LEVY    93.23           94.08   \n",
       "2  01M020            P.S. 020 ANNA SILVER    92.64           91.80   \n",
       "3  01M034  P.S. 034 FRANKLIN D. ROOSEVELT    90.32           87.56   \n",
       "4  01M063         THE STAR ACADEMY P.S.63    93.33           90.00   \n",
       "\n",
       "   InPersonPresence    Borough  DistrictCode  ATTN_DATE_YMD  \n",
       "0             93.06  Manhattan             1  6/2/2021 0:00  \n",
       "1             89.47  Manhattan             1  6/2/2021 0:00  \n",
       "2             95.14  Manhattan             1  6/2/2021 0:00  \n",
       "3             95.74  Manhattan             1  6/2/2021 0:00  \n",
       "4             98.75  Manhattan             1  6/2/2021 0:00  "
      ]
     },
     "execution_count": 3,
     "metadata": {},
     "output_type": "execute_result"
    }
   ],
   "source": [
    "df = pd.read_csv('data/Todays_Attendance_2021_06_02_20_49.csv')\n",
    "df.head()"
   ]
  },
  {
   "cell_type": "code",
   "execution_count": 4,
   "id": "3e1919f9",
   "metadata": {},
   "outputs": [
    {
     "data": {
      "text/plain": [
       "1605"
      ]
     },
     "execution_count": 4,
     "metadata": {},
     "output_type": "execute_result"
    }
   ],
   "source": [
    "len(df)"
   ]
  },
  {
   "cell_type": "code",
   "execution_count": 5,
   "id": "7fe32bfd",
   "metadata": {},
   "outputs": [
    {
     "data": {
      "text/plain": [
       "(1605, 8)"
      ]
     },
     "execution_count": 5,
     "metadata": {},
     "output_type": "execute_result"
    }
   ],
   "source": [
    "df.shape"
   ]
  },
  {
   "cell_type": "code",
   "execution_count": 6,
   "id": "c84ab795",
   "metadata": {
    "scrolled": true
   },
   "outputs": [
    {
     "name": "stdout",
     "output_type": "stream",
     "text": [
      "<class 'pandas.core.frame.DataFrame'>\n",
      "RangeIndex: 1605 entries, 0 to 1604\n",
      "Data columns (total 8 columns):\n",
      " #   Column            Non-Null Count  Dtype  \n",
      "---  ------            --------------  -----  \n",
      " 0   DBN               1605 non-null   object \n",
      " 1   School_Name       1605 non-null   object \n",
      " 2   ATTN_PCT          1605 non-null   object \n",
      " 3   OnlinePresence    1509 non-null   float64\n",
      " 4   InPersonPresence  1369 non-null   float64\n",
      " 5   Borough           1605 non-null   object \n",
      " 6   DistrictCode      1605 non-null   int64  \n",
      " 7   ATTN_DATE_YMD     1605 non-null   object \n",
      "dtypes: float64(2), int64(1), object(5)\n",
      "memory usage: 100.4+ KB\n"
     ]
    }
   ],
   "source": [
    "df.info()"
   ]
  },
  {
   "cell_type": "code",
   "execution_count": 7,
   "id": "fb03e01c",
   "metadata": {
    "scrolled": true
   },
   "outputs": [
    {
     "data": {
      "text/html": [
       "<div>\n",
       "<style scoped>\n",
       "    .dataframe tbody tr th:only-of-type {\n",
       "        vertical-align: middle;\n",
       "    }\n",
       "\n",
       "    .dataframe tbody tr th {\n",
       "        vertical-align: top;\n",
       "    }\n",
       "\n",
       "    .dataframe thead th {\n",
       "        text-align: right;\n",
       "    }\n",
       "</style>\n",
       "<table border=\"1\" class=\"dataframe\">\n",
       "  <thead>\n",
       "    <tr style=\"text-align: right;\">\n",
       "      <th></th>\n",
       "      <th>OnlinePresence</th>\n",
       "      <th>InPersonPresence</th>\n",
       "      <th>DistrictCode</th>\n",
       "    </tr>\n",
       "  </thead>\n",
       "  <tbody>\n",
       "    <tr>\n",
       "      <th>count</th>\n",
       "      <td>1509.000000</td>\n",
       "      <td>1369.000000</td>\n",
       "      <td>1605.000000</td>\n",
       "    </tr>\n",
       "    <tr>\n",
       "      <th>mean</th>\n",
       "      <td>87.023048</td>\n",
       "      <td>89.871534</td>\n",
       "      <td>18.328972</td>\n",
       "    </tr>\n",
       "    <tr>\n",
       "      <th>std</th>\n",
       "      <td>12.272051</td>\n",
       "      <td>11.606152</td>\n",
       "      <td>14.571697</td>\n",
       "    </tr>\n",
       "    <tr>\n",
       "      <th>min</th>\n",
       "      <td>14.400000</td>\n",
       "      <td>5.260000</td>\n",
       "      <td>1.000000</td>\n",
       "    </tr>\n",
       "    <tr>\n",
       "      <th>25%</th>\n",
       "      <td>83.160000</td>\n",
       "      <td>88.630000</td>\n",
       "      <td>9.000000</td>\n",
       "    </tr>\n",
       "    <tr>\n",
       "      <th>50%</th>\n",
       "      <td>90.450000</td>\n",
       "      <td>92.850000</td>\n",
       "      <td>16.000000</td>\n",
       "    </tr>\n",
       "    <tr>\n",
       "      <th>75%</th>\n",
       "      <td>95.060000</td>\n",
       "      <td>96.030000</td>\n",
       "      <td>26.000000</td>\n",
       "    </tr>\n",
       "    <tr>\n",
       "      <th>max</th>\n",
       "      <td>100.000000</td>\n",
       "      <td>100.000000</td>\n",
       "      <td>93.000000</td>\n",
       "    </tr>\n",
       "  </tbody>\n",
       "</table>\n",
       "</div>"
      ],
      "text/plain": [
       "       OnlinePresence  InPersonPresence  DistrictCode\n",
       "count     1509.000000       1369.000000   1605.000000\n",
       "mean        87.023048         89.871534     18.328972\n",
       "std         12.272051         11.606152     14.571697\n",
       "min         14.400000          5.260000      1.000000\n",
       "25%         83.160000         88.630000      9.000000\n",
       "50%         90.450000         92.850000     16.000000\n",
       "75%         95.060000         96.030000     26.000000\n",
       "max        100.000000        100.000000     93.000000"
      ]
     },
     "execution_count": 7,
     "metadata": {},
     "output_type": "execute_result"
    }
   ],
   "source": [
    "df.describe()"
   ]
  },
  {
   "cell_type": "code",
   "execution_count": 8,
   "id": "a5342017",
   "metadata": {
    "scrolled": true
   },
   "outputs": [
    {
     "data": {
      "text/html": [
       "<div>\n",
       "<style scoped>\n",
       "    .dataframe tbody tr th:only-of-type {\n",
       "        vertical-align: middle;\n",
       "    }\n",
       "\n",
       "    .dataframe tbody tr th {\n",
       "        vertical-align: top;\n",
       "    }\n",
       "\n",
       "    .dataframe thead th {\n",
       "        text-align: right;\n",
       "    }\n",
       "</style>\n",
       "<table border=\"1\" class=\"dataframe\">\n",
       "  <thead>\n",
       "    <tr style=\"text-align: right;\">\n",
       "      <th></th>\n",
       "      <th>DBN</th>\n",
       "      <th>School_Name</th>\n",
       "      <th>ATTN_PCT</th>\n",
       "      <th>Borough</th>\n",
       "      <th>ATTN_DATE_YMD</th>\n",
       "    </tr>\n",
       "  </thead>\n",
       "  <tbody>\n",
       "    <tr>\n",
       "      <th>count</th>\n",
       "      <td>1605</td>\n",
       "      <td>1605</td>\n",
       "      <td>1605</td>\n",
       "      <td>1605</td>\n",
       "      <td>1605</td>\n",
       "    </tr>\n",
       "    <tr>\n",
       "      <th>unique</th>\n",
       "      <td>1605</td>\n",
       "      <td>1602</td>\n",
       "      <td>1102</td>\n",
       "      <td>5</td>\n",
       "      <td>1</td>\n",
       "    </tr>\n",
       "    <tr>\n",
       "      <th>top</th>\n",
       "      <td>19K345</td>\n",
       "      <td>P.S. 376</td>\n",
       "      <td>INC</td>\n",
       "      <td>Brooklyn</td>\n",
       "      <td>6/2/2021 0:00</td>\n",
       "    </tr>\n",
       "    <tr>\n",
       "      <th>freq</th>\n",
       "      <td>1</td>\n",
       "      <td>2</td>\n",
       "      <td>89</td>\n",
       "      <td>488</td>\n",
       "      <td>1605</td>\n",
       "    </tr>\n",
       "  </tbody>\n",
       "</table>\n",
       "</div>"
      ],
      "text/plain": [
       "           DBN School_Name ATTN_PCT   Borough  ATTN_DATE_YMD\n",
       "count     1605        1605     1605      1605           1605\n",
       "unique    1605        1602     1102         5              1\n",
       "top     19K345    P.S. 376      INC  Brooklyn  6/2/2021 0:00\n",
       "freq         1           2       89       488           1605"
      ]
     },
     "execution_count": 8,
     "metadata": {},
     "output_type": "execute_result"
    }
   ],
   "source": [
    "df.describe(include=[object])"
   ]
  },
  {
   "cell_type": "code",
   "execution_count": 9,
   "id": "d013bbf6",
   "metadata": {
    "scrolled": true
   },
   "outputs": [
    {
     "data": {
      "text/plain": [
       "DBN                 1605\n",
       "School_Name         1602\n",
       "ATTN_PCT            1102\n",
       "OnlinePresence      1100\n",
       "InPersonPresence     819\n",
       "Borough                5\n",
       "DistrictCode          35\n",
       "ATTN_DATE_YMD          1\n",
       "dtype: int64"
      ]
     },
     "execution_count": 9,
     "metadata": {},
     "output_type": "execute_result"
    }
   ],
   "source": [
    "df.nunique()"
   ]
  },
  {
   "cell_type": "code",
   "execution_count": 10,
   "id": "884a10ee",
   "metadata": {
    "scrolled": true
   },
   "outputs": [
    {
     "data": {
      "text/plain": [
       "DBN                   0\n",
       "School_Name           0\n",
       "ATTN_PCT              0\n",
       "OnlinePresence       96\n",
       "InPersonPresence    236\n",
       "Borough               0\n",
       "DistrictCode          0\n",
       "ATTN_DATE_YMD         0\n",
       "dtype: int64"
      ]
     },
     "execution_count": 10,
     "metadata": {},
     "output_type": "execute_result"
    }
   ],
   "source": [
    "df.isnull().sum()"
   ]
  },
  {
   "cell_type": "code",
   "execution_count": 11,
   "id": "10fa0b41",
   "metadata": {
    "scrolled": true
   },
   "outputs": [
    {
     "name": "stdout",
     "output_type": "stream",
     "text": [
      "<class 'pandas.core.frame.DataFrame'>\n",
      "RangeIndex: 1605 entries, 0 to 1604\n",
      "Data columns (total 8 columns):\n",
      " #   Column            Non-Null Count  Dtype  \n",
      "---  ------            --------------  -----  \n",
      " 0   DBN               1605 non-null   object \n",
      " 1   School_Name       1605 non-null   object \n",
      " 2   ATTN_PCT          1605 non-null   object \n",
      " 3   OnlinePresence    1509 non-null   float64\n",
      " 4   InPersonPresence  1369 non-null   float64\n",
      " 5   Borough           1605 non-null   object \n",
      " 6   DistrictCode      1605 non-null   int64  \n",
      " 7   ATTN_DATE_YMD     1605 non-null   object \n",
      "dtypes: float64(2), int64(1), object(5)\n",
      "memory usage: 100.4+ KB\n"
     ]
    }
   ],
   "source": [
    "df.info()"
   ]
  },
  {
   "cell_type": "code",
   "execution_count": 12,
   "id": "0bb9edef",
   "metadata": {
    "scrolled": true
   },
   "outputs": [
    {
     "data": {
      "text/plain": [
       "0       89.02\n",
       "1       94.08\n",
       "2       91.80\n",
       "3       87.56\n",
       "4       90.00\n",
       "        ...  \n",
       "1600    85.50\n",
       "1601    96.38\n",
       "1602    93.80\n",
       "1603    90.62\n",
       "1604    91.07\n",
       "Name: OnlinePresence, Length: 1605, dtype: float64"
      ]
     },
     "execution_count": 12,
     "metadata": {},
     "output_type": "execute_result"
    }
   ],
   "source": [
    "df['OnlinePresence'].fillna(df['OnlinePresence'].mean())"
   ]
  },
  {
   "cell_type": "code",
   "execution_count": 13,
   "id": "75501e6e",
   "metadata": {
    "scrolled": true
   },
   "outputs": [
    {
     "data": {
      "text/plain": [
       "0       93.06\n",
       "1       89.47\n",
       "2       95.14\n",
       "3       95.74\n",
       "4       98.75\n",
       "        ...  \n",
       "1600    87.09\n",
       "1601    94.66\n",
       "1602    96.58\n",
       "1603    97.02\n",
       "1604    89.24\n",
       "Name: InPersonPresence, Length: 1605, dtype: float64"
      ]
     },
     "execution_count": 13,
     "metadata": {},
     "output_type": "execute_result"
    }
   ],
   "source": [
    "df['InPersonPresence'].fillna(df['InPersonPresence'].mean())"
   ]
  },
  {
   "cell_type": "code",
   "execution_count": 14,
   "id": "37dfc580",
   "metadata": {
    "scrolled": true
   },
   "outputs": [
    {
     "name": "stdout",
     "output_type": "stream",
     "text": [
      "<class 'pandas.core.frame.DataFrame'>\n",
      "RangeIndex: 1605 entries, 0 to 1604\n",
      "Data columns (total 8 columns):\n",
      " #   Column            Non-Null Count  Dtype  \n",
      "---  ------            --------------  -----  \n",
      " 0   DBN               1605 non-null   object \n",
      " 1   School_Name       1605 non-null   object \n",
      " 2   ATTN_PCT          1605 non-null   object \n",
      " 3   OnlinePresence    1509 non-null   float64\n",
      " 4   InPersonPresence  1369 non-null   float64\n",
      " 5   Borough           1605 non-null   object \n",
      " 6   DistrictCode      1605 non-null   int64  \n",
      " 7   ATTN_DATE_YMD     1605 non-null   object \n",
      "dtypes: float64(2), int64(1), object(5)\n",
      "memory usage: 100.4+ KB\n"
     ]
    }
   ],
   "source": [
    "df.info()"
   ]
  },
  {
   "cell_type": "code",
   "execution_count": 15,
   "id": "e9b16bdd",
   "metadata": {
    "scrolled": false
   },
   "outputs": [
    {
     "data": {
      "text/html": [
       "<div>\n",
       "<style scoped>\n",
       "    .dataframe tbody tr th:only-of-type {\n",
       "        vertical-align: middle;\n",
       "    }\n",
       "\n",
       "    .dataframe tbody tr th {\n",
       "        vertical-align: top;\n",
       "    }\n",
       "\n",
       "    .dataframe thead th {\n",
       "        text-align: right;\n",
       "    }\n",
       "</style>\n",
       "<table border=\"1\" class=\"dataframe\">\n",
       "  <thead>\n",
       "    <tr style=\"text-align: right;\">\n",
       "      <th></th>\n",
       "      <th>DBN</th>\n",
       "      <th>School_Name</th>\n",
       "      <th>ATTN_PCT</th>\n",
       "      <th>OnlinePresence</th>\n",
       "      <th>InPersonPresence</th>\n",
       "      <th>Borough</th>\n",
       "      <th>DistrictCode</th>\n",
       "      <th>ATTN_DATE_YMD</th>\n",
       "    </tr>\n",
       "  </thead>\n",
       "  <tbody>\n",
       "    <tr>\n",
       "      <th>0</th>\n",
       "      <td>01M015</td>\n",
       "      <td>P.S. 015 ROBERTO CLEMENTE</td>\n",
       "      <td>91.25</td>\n",
       "      <td>89.02</td>\n",
       "      <td>93.06</td>\n",
       "      <td>Manhattan</td>\n",
       "      <td>1</td>\n",
       "      <td>6/2/2021 0:00</td>\n",
       "    </tr>\n",
       "    <tr>\n",
       "      <th>1</th>\n",
       "      <td>01M019</td>\n",
       "      <td>P.S. 019 ASHER LEVY</td>\n",
       "      <td>93.23</td>\n",
       "      <td>94.08</td>\n",
       "      <td>89.47</td>\n",
       "      <td>Manhattan</td>\n",
       "      <td>1</td>\n",
       "      <td>6/2/2021 0:00</td>\n",
       "    </tr>\n",
       "    <tr>\n",
       "      <th>2</th>\n",
       "      <td>01M020</td>\n",
       "      <td>P.S. 020 ANNA SILVER</td>\n",
       "      <td>92.64</td>\n",
       "      <td>91.80</td>\n",
       "      <td>95.14</td>\n",
       "      <td>Manhattan</td>\n",
       "      <td>1</td>\n",
       "      <td>6/2/2021 0:00</td>\n",
       "    </tr>\n",
       "    <tr>\n",
       "      <th>3</th>\n",
       "      <td>01M034</td>\n",
       "      <td>P.S. 034 FRANKLIN D. ROOSEVELT</td>\n",
       "      <td>90.32</td>\n",
       "      <td>87.56</td>\n",
       "      <td>95.74</td>\n",
       "      <td>Manhattan</td>\n",
       "      <td>1</td>\n",
       "      <td>6/2/2021 0:00</td>\n",
       "    </tr>\n",
       "    <tr>\n",
       "      <th>4</th>\n",
       "      <td>01M063</td>\n",
       "      <td>THE STAR ACADEMY P.S.63</td>\n",
       "      <td>93.33</td>\n",
       "      <td>90.00</td>\n",
       "      <td>98.75</td>\n",
       "      <td>Manhattan</td>\n",
       "      <td>1</td>\n",
       "      <td>6/2/2021 0:00</td>\n",
       "    </tr>\n",
       "  </tbody>\n",
       "</table>\n",
       "</div>"
      ],
      "text/plain": [
       "      DBN                     School_Name ATTN_PCT  OnlinePresence  \\\n",
       "0  01M015       P.S. 015 ROBERTO CLEMENTE    91.25           89.02   \n",
       "1  01M019             P.S. 019 ASHER LEVY    93.23           94.08   \n",
       "2  01M020            P.S. 020 ANNA SILVER    92.64           91.80   \n",
       "3  01M034  P.S. 034 FRANKLIN D. ROOSEVELT    90.32           87.56   \n",
       "4  01M063         THE STAR ACADEMY P.S.63    93.33           90.00   \n",
       "\n",
       "   InPersonPresence    Borough  DistrictCode  ATTN_DATE_YMD  \n",
       "0             93.06  Manhattan             1  6/2/2021 0:00  \n",
       "1             89.47  Manhattan             1  6/2/2021 0:00  \n",
       "2             95.14  Manhattan             1  6/2/2021 0:00  \n",
       "3             95.74  Manhattan             1  6/2/2021 0:00  \n",
       "4             98.75  Manhattan             1  6/2/2021 0:00  "
      ]
     },
     "execution_count": 15,
     "metadata": {},
     "output_type": "execute_result"
    }
   ],
   "source": [
    "df.head()"
   ]
  },
  {
   "cell_type": "code",
   "execution_count": 16,
   "id": "222efe9c",
   "metadata": {
    "scrolled": false
   },
   "outputs": [
    {
     "name": "stdout",
     "output_type": "stream",
     "text": [
      "<class 'pandas.core.frame.DataFrame'>\n",
      "Index: 1605 entries, 01M015 to 30Q389\n",
      "Data columns (total 7 columns):\n",
      " #   Column            Non-Null Count  Dtype  \n",
      "---  ------            --------------  -----  \n",
      " 0   School_Name       1605 non-null   object \n",
      " 1   ATTN_PCT          1605 non-null   object \n",
      " 2   OnlinePresence    1509 non-null   float64\n",
      " 3   InPersonPresence  1369 non-null   float64\n",
      " 4   Borough           1605 non-null   object \n",
      " 5   DistrictCode      1605 non-null   int64  \n",
      " 6   ATTN_DATE_YMD     1605 non-null   object \n",
      "dtypes: float64(2), int64(1), object(4)\n",
      "memory usage: 100.3+ KB\n"
     ]
    }
   ],
   "source": [
    "df = pd.read_csv('data/Todays_Attendance_2021_06_02_20_49.csv', \n",
    "                 index_col=0, parse_dates=True)\n",
    "df.info()"
   ]
  },
  {
   "cell_type": "code",
   "execution_count": 17,
   "id": "6fda7cc9",
   "metadata": {
    "scrolled": true
   },
   "outputs": [
    {
     "data": {
      "text/html": [
       "<div>\n",
       "<style scoped>\n",
       "    .dataframe tbody tr th:only-of-type {\n",
       "        vertical-align: middle;\n",
       "    }\n",
       "\n",
       "    .dataframe tbody tr th {\n",
       "        vertical-align: top;\n",
       "    }\n",
       "\n",
       "    .dataframe thead th {\n",
       "        text-align: right;\n",
       "    }\n",
       "</style>\n",
       "<table border=\"1\" class=\"dataframe\">\n",
       "  <thead>\n",
       "    <tr style=\"text-align: right;\">\n",
       "      <th></th>\n",
       "      <th>School_Name</th>\n",
       "      <th>ATTN_PCT</th>\n",
       "      <th>OnlinePresence</th>\n",
       "      <th>InPersonPresence</th>\n",
       "      <th>Borough</th>\n",
       "      <th>DistrictCode</th>\n",
       "      <th>ATTN_DATE_YMD</th>\n",
       "    </tr>\n",
       "    <tr>\n",
       "      <th>DBN</th>\n",
       "      <th></th>\n",
       "      <th></th>\n",
       "      <th></th>\n",
       "      <th></th>\n",
       "      <th></th>\n",
       "      <th></th>\n",
       "      <th></th>\n",
       "    </tr>\n",
       "  </thead>\n",
       "  <tbody>\n",
       "    <tr>\n",
       "      <th>01M015</th>\n",
       "      <td>P.S. 015 ROBERTO CLEMENTE</td>\n",
       "      <td>91.25</td>\n",
       "      <td>89.02</td>\n",
       "      <td>93.06</td>\n",
       "      <td>Manhattan</td>\n",
       "      <td>1</td>\n",
       "      <td>6/2/2021 0:00</td>\n",
       "    </tr>\n",
       "    <tr>\n",
       "      <th>01M019</th>\n",
       "      <td>P.S. 019 ASHER LEVY</td>\n",
       "      <td>93.23</td>\n",
       "      <td>94.08</td>\n",
       "      <td>89.47</td>\n",
       "      <td>Manhattan</td>\n",
       "      <td>1</td>\n",
       "      <td>6/2/2021 0:00</td>\n",
       "    </tr>\n",
       "    <tr>\n",
       "      <th>01M020</th>\n",
       "      <td>P.S. 020 ANNA SILVER</td>\n",
       "      <td>92.64</td>\n",
       "      <td>91.80</td>\n",
       "      <td>95.14</td>\n",
       "      <td>Manhattan</td>\n",
       "      <td>1</td>\n",
       "      <td>6/2/2021 0:00</td>\n",
       "    </tr>\n",
       "    <tr>\n",
       "      <th>01M034</th>\n",
       "      <td>P.S. 034 FRANKLIN D. ROOSEVELT</td>\n",
       "      <td>90.32</td>\n",
       "      <td>87.56</td>\n",
       "      <td>95.74</td>\n",
       "      <td>Manhattan</td>\n",
       "      <td>1</td>\n",
       "      <td>6/2/2021 0:00</td>\n",
       "    </tr>\n",
       "    <tr>\n",
       "      <th>01M063</th>\n",
       "      <td>THE STAR ACADEMY P.S.63</td>\n",
       "      <td>93.33</td>\n",
       "      <td>90.00</td>\n",
       "      <td>98.75</td>\n",
       "      <td>Manhattan</td>\n",
       "      <td>1</td>\n",
       "      <td>6/2/2021 0:00</td>\n",
       "    </tr>\n",
       "  </tbody>\n",
       "</table>\n",
       "</div>"
      ],
      "text/plain": [
       "                           School_Name ATTN_PCT  OnlinePresence  \\\n",
       "DBN                                                               \n",
       "01M015       P.S. 015 ROBERTO CLEMENTE    91.25           89.02   \n",
       "01M019             P.S. 019 ASHER LEVY    93.23           94.08   \n",
       "01M020            P.S. 020 ANNA SILVER    92.64           91.80   \n",
       "01M034  P.S. 034 FRANKLIN D. ROOSEVELT    90.32           87.56   \n",
       "01M063         THE STAR ACADEMY P.S.63    93.33           90.00   \n",
       "\n",
       "        InPersonPresence    Borough  DistrictCode  ATTN_DATE_YMD  \n",
       "DBN                                                               \n",
       "01M015             93.06  Manhattan             1  6/2/2021 0:00  \n",
       "01M019             89.47  Manhattan             1  6/2/2021 0:00  \n",
       "01M020             95.14  Manhattan             1  6/2/2021 0:00  \n",
       "01M034             95.74  Manhattan             1  6/2/2021 0:00  \n",
       "01M063             98.75  Manhattan             1  6/2/2021 0:00  "
      ]
     },
     "execution_count": 17,
     "metadata": {},
     "output_type": "execute_result"
    }
   ],
   "source": [
    "df.head()"
   ]
  },
  {
   "cell_type": "code",
   "execution_count": 18,
   "id": "6f9c2543",
   "metadata": {},
   "outputs": [],
   "source": [
    "df['Borough'] = df['Borough'].str.upper()"
   ]
  },
  {
   "cell_type": "code",
   "execution_count": 19,
   "id": "97887165",
   "metadata": {},
   "outputs": [
    {
     "data": {
      "text/html": [
       "<div>\n",
       "<style scoped>\n",
       "    .dataframe tbody tr th:only-of-type {\n",
       "        vertical-align: middle;\n",
       "    }\n",
       "\n",
       "    .dataframe tbody tr th {\n",
       "        vertical-align: top;\n",
       "    }\n",
       "\n",
       "    .dataframe thead th {\n",
       "        text-align: right;\n",
       "    }\n",
       "</style>\n",
       "<table border=\"1\" class=\"dataframe\">\n",
       "  <thead>\n",
       "    <tr style=\"text-align: right;\">\n",
       "      <th></th>\n",
       "      <th>School_Name</th>\n",
       "      <th>ATTN_PCT</th>\n",
       "      <th>OnlinePresence</th>\n",
       "      <th>InPersonPresence</th>\n",
       "      <th>Borough</th>\n",
       "      <th>DistrictCode</th>\n",
       "      <th>ATTN_DATE_YMD</th>\n",
       "    </tr>\n",
       "    <tr>\n",
       "      <th>DBN</th>\n",
       "      <th></th>\n",
       "      <th></th>\n",
       "      <th></th>\n",
       "      <th></th>\n",
       "      <th></th>\n",
       "      <th></th>\n",
       "      <th></th>\n",
       "    </tr>\n",
       "  </thead>\n",
       "  <tbody>\n",
       "    <tr>\n",
       "      <th>01M015</th>\n",
       "      <td>P.S. 015 ROBERTO CLEMENTE</td>\n",
       "      <td>91.25</td>\n",
       "      <td>89.02</td>\n",
       "      <td>93.06</td>\n",
       "      <td>MANHATTAN</td>\n",
       "      <td>1</td>\n",
       "      <td>6/2/2021 0:00</td>\n",
       "    </tr>\n",
       "    <tr>\n",
       "      <th>01M019</th>\n",
       "      <td>P.S. 019 ASHER LEVY</td>\n",
       "      <td>93.23</td>\n",
       "      <td>94.08</td>\n",
       "      <td>89.47</td>\n",
       "      <td>MANHATTAN</td>\n",
       "      <td>1</td>\n",
       "      <td>6/2/2021 0:00</td>\n",
       "    </tr>\n",
       "    <tr>\n",
       "      <th>01M020</th>\n",
       "      <td>P.S. 020 ANNA SILVER</td>\n",
       "      <td>92.64</td>\n",
       "      <td>91.80</td>\n",
       "      <td>95.14</td>\n",
       "      <td>MANHATTAN</td>\n",
       "      <td>1</td>\n",
       "      <td>6/2/2021 0:00</td>\n",
       "    </tr>\n",
       "    <tr>\n",
       "      <th>01M034</th>\n",
       "      <td>P.S. 034 FRANKLIN D. ROOSEVELT</td>\n",
       "      <td>90.32</td>\n",
       "      <td>87.56</td>\n",
       "      <td>95.74</td>\n",
       "      <td>MANHATTAN</td>\n",
       "      <td>1</td>\n",
       "      <td>6/2/2021 0:00</td>\n",
       "    </tr>\n",
       "    <tr>\n",
       "      <th>01M063</th>\n",
       "      <td>THE STAR ACADEMY P.S.63</td>\n",
       "      <td>93.33</td>\n",
       "      <td>90.00</td>\n",
       "      <td>98.75</td>\n",
       "      <td>MANHATTAN</td>\n",
       "      <td>1</td>\n",
       "      <td>6/2/2021 0:00</td>\n",
       "    </tr>\n",
       "  </tbody>\n",
       "</table>\n",
       "</div>"
      ],
      "text/plain": [
       "                           School_Name ATTN_PCT  OnlinePresence  \\\n",
       "DBN                                                               \n",
       "01M015       P.S. 015 ROBERTO CLEMENTE    91.25           89.02   \n",
       "01M019             P.S. 019 ASHER LEVY    93.23           94.08   \n",
       "01M020            P.S. 020 ANNA SILVER    92.64           91.80   \n",
       "01M034  P.S. 034 FRANKLIN D. ROOSEVELT    90.32           87.56   \n",
       "01M063         THE STAR ACADEMY P.S.63    93.33           90.00   \n",
       "\n",
       "        InPersonPresence    Borough  DistrictCode  ATTN_DATE_YMD  \n",
       "DBN                                                               \n",
       "01M015             93.06  MANHATTAN             1  6/2/2021 0:00  \n",
       "01M019             89.47  MANHATTAN             1  6/2/2021 0:00  \n",
       "01M020             95.14  MANHATTAN             1  6/2/2021 0:00  \n",
       "01M034             95.74  MANHATTAN             1  6/2/2021 0:00  \n",
       "01M063             98.75  MANHATTAN             1  6/2/2021 0:00  "
      ]
     },
     "execution_count": 19,
     "metadata": {},
     "output_type": "execute_result"
    }
   ],
   "source": [
    "df.head()"
   ]
  },
  {
   "cell_type": "code",
   "execution_count": 22,
   "id": "839d4223",
   "metadata": {},
   "outputs": [],
   "source": [
    "df = df.rename(columns = {\"ATTN_PCT\":\"Attn_Pct\", \n",
    "                            \"OnlinePresence\":\"Online_Presence\",\n",
    "                         \"InPersonPresence\":\"In_Person_Presence\",\n",
    "                         \"DistrictCode\":\"District_Code\",\n",
    "                         \"ATTN_DATE_YMD\":\"Attn_Date_YMD\"})"
   ]
  },
  {
   "cell_type": "code",
   "execution_count": 23,
   "id": "ea94dfaf",
   "metadata": {
    "scrolled": true
   },
   "outputs": [
    {
     "data": {
      "text/html": [
       "<div>\n",
       "<style scoped>\n",
       "    .dataframe tbody tr th:only-of-type {\n",
       "        vertical-align: middle;\n",
       "    }\n",
       "\n",
       "    .dataframe tbody tr th {\n",
       "        vertical-align: top;\n",
       "    }\n",
       "\n",
       "    .dataframe thead th {\n",
       "        text-align: right;\n",
       "    }\n",
       "</style>\n",
       "<table border=\"1\" class=\"dataframe\">\n",
       "  <thead>\n",
       "    <tr style=\"text-align: right;\">\n",
       "      <th></th>\n",
       "      <th>School_Name</th>\n",
       "      <th>Attn_Pct</th>\n",
       "      <th>Online_Presence</th>\n",
       "      <th>In_Person_Presence</th>\n",
       "      <th>Borough</th>\n",
       "      <th>District_Code</th>\n",
       "      <th>Attn_Date_YMD</th>\n",
       "    </tr>\n",
       "    <tr>\n",
       "      <th>DBN</th>\n",
       "      <th></th>\n",
       "      <th></th>\n",
       "      <th></th>\n",
       "      <th></th>\n",
       "      <th></th>\n",
       "      <th></th>\n",
       "      <th></th>\n",
       "    </tr>\n",
       "  </thead>\n",
       "  <tbody>\n",
       "    <tr>\n",
       "      <th>01M015</th>\n",
       "      <td>P.S. 015 ROBERTO CLEMENTE</td>\n",
       "      <td>91.25</td>\n",
       "      <td>89.02</td>\n",
       "      <td>93.06</td>\n",
       "      <td>MANHATTAN</td>\n",
       "      <td>1</td>\n",
       "      <td>6/2/2021 0:00</td>\n",
       "    </tr>\n",
       "    <tr>\n",
       "      <th>01M019</th>\n",
       "      <td>P.S. 019 ASHER LEVY</td>\n",
       "      <td>93.23</td>\n",
       "      <td>94.08</td>\n",
       "      <td>89.47</td>\n",
       "      <td>MANHATTAN</td>\n",
       "      <td>1</td>\n",
       "      <td>6/2/2021 0:00</td>\n",
       "    </tr>\n",
       "    <tr>\n",
       "      <th>01M020</th>\n",
       "      <td>P.S. 020 ANNA SILVER</td>\n",
       "      <td>92.64</td>\n",
       "      <td>91.80</td>\n",
       "      <td>95.14</td>\n",
       "      <td>MANHATTAN</td>\n",
       "      <td>1</td>\n",
       "      <td>6/2/2021 0:00</td>\n",
       "    </tr>\n",
       "    <tr>\n",
       "      <th>01M034</th>\n",
       "      <td>P.S. 034 FRANKLIN D. ROOSEVELT</td>\n",
       "      <td>90.32</td>\n",
       "      <td>87.56</td>\n",
       "      <td>95.74</td>\n",
       "      <td>MANHATTAN</td>\n",
       "      <td>1</td>\n",
       "      <td>6/2/2021 0:00</td>\n",
       "    </tr>\n",
       "    <tr>\n",
       "      <th>01M063</th>\n",
       "      <td>THE STAR ACADEMY P.S.63</td>\n",
       "      <td>93.33</td>\n",
       "      <td>90.00</td>\n",
       "      <td>98.75</td>\n",
       "      <td>MANHATTAN</td>\n",
       "      <td>1</td>\n",
       "      <td>6/2/2021 0:00</td>\n",
       "    </tr>\n",
       "  </tbody>\n",
       "</table>\n",
       "</div>"
      ],
      "text/plain": [
       "                           School_Name Attn_Pct  Online_Presence  \\\n",
       "DBN                                                                \n",
       "01M015       P.S. 015 ROBERTO CLEMENTE    91.25            89.02   \n",
       "01M019             P.S. 019 ASHER LEVY    93.23            94.08   \n",
       "01M020            P.S. 020 ANNA SILVER    92.64            91.80   \n",
       "01M034  P.S. 034 FRANKLIN D. ROOSEVELT    90.32            87.56   \n",
       "01M063         THE STAR ACADEMY P.S.63    93.33            90.00   \n",
       "\n",
       "        In_Person_Presence    Borough  District_Code  Attn_Date_YMD  \n",
       "DBN                                                                  \n",
       "01M015               93.06  MANHATTAN              1  6/2/2021 0:00  \n",
       "01M019               89.47  MANHATTAN              1  6/2/2021 0:00  \n",
       "01M020               95.14  MANHATTAN              1  6/2/2021 0:00  \n",
       "01M034               95.74  MANHATTAN              1  6/2/2021 0:00  \n",
       "01M063               98.75  MANHATTAN              1  6/2/2021 0:00  "
      ]
     },
     "execution_count": 23,
     "metadata": {},
     "output_type": "execute_result"
    }
   ],
   "source": [
    "df.head()"
   ]
  },
  {
   "cell_type": "code",
   "execution_count": 25,
   "id": "8fb44d2d",
   "metadata": {},
   "outputs": [],
   "source": [
    "df['Attn_Date_YMD'] = pd.to_datetime(df.Attn_Date_YMD)            "
   ]
  },
  {
   "cell_type": "code",
   "execution_count": 26,
   "id": "785f44ca",
   "metadata": {
    "scrolled": true
   },
   "outputs": [
    {
     "data": {
      "text/html": [
       "<div>\n",
       "<style scoped>\n",
       "    .dataframe tbody tr th:only-of-type {\n",
       "        vertical-align: middle;\n",
       "    }\n",
       "\n",
       "    .dataframe tbody tr th {\n",
       "        vertical-align: top;\n",
       "    }\n",
       "\n",
       "    .dataframe thead th {\n",
       "        text-align: right;\n",
       "    }\n",
       "</style>\n",
       "<table border=\"1\" class=\"dataframe\">\n",
       "  <thead>\n",
       "    <tr style=\"text-align: right;\">\n",
       "      <th></th>\n",
       "      <th>School_Name</th>\n",
       "      <th>Attn_Pct</th>\n",
       "      <th>Online_Presence</th>\n",
       "      <th>In_Person_Presence</th>\n",
       "      <th>Borough</th>\n",
       "      <th>District_Code</th>\n",
       "      <th>Attn_Date_YMD</th>\n",
       "    </tr>\n",
       "    <tr>\n",
       "      <th>DBN</th>\n",
       "      <th></th>\n",
       "      <th></th>\n",
       "      <th></th>\n",
       "      <th></th>\n",
       "      <th></th>\n",
       "      <th></th>\n",
       "      <th></th>\n",
       "    </tr>\n",
       "  </thead>\n",
       "  <tbody>\n",
       "    <tr>\n",
       "      <th>01M015</th>\n",
       "      <td>P.S. 015 ROBERTO CLEMENTE</td>\n",
       "      <td>91.25</td>\n",
       "      <td>89.02</td>\n",
       "      <td>93.06</td>\n",
       "      <td>MANHATTAN</td>\n",
       "      <td>1</td>\n",
       "      <td>2021-06-02</td>\n",
       "    </tr>\n",
       "    <tr>\n",
       "      <th>01M019</th>\n",
       "      <td>P.S. 019 ASHER LEVY</td>\n",
       "      <td>93.23</td>\n",
       "      <td>94.08</td>\n",
       "      <td>89.47</td>\n",
       "      <td>MANHATTAN</td>\n",
       "      <td>1</td>\n",
       "      <td>2021-06-02</td>\n",
       "    </tr>\n",
       "    <tr>\n",
       "      <th>01M020</th>\n",
       "      <td>P.S. 020 ANNA SILVER</td>\n",
       "      <td>92.64</td>\n",
       "      <td>91.80</td>\n",
       "      <td>95.14</td>\n",
       "      <td>MANHATTAN</td>\n",
       "      <td>1</td>\n",
       "      <td>2021-06-02</td>\n",
       "    </tr>\n",
       "    <tr>\n",
       "      <th>01M034</th>\n",
       "      <td>P.S. 034 FRANKLIN D. ROOSEVELT</td>\n",
       "      <td>90.32</td>\n",
       "      <td>87.56</td>\n",
       "      <td>95.74</td>\n",
       "      <td>MANHATTAN</td>\n",
       "      <td>1</td>\n",
       "      <td>2021-06-02</td>\n",
       "    </tr>\n",
       "    <tr>\n",
       "      <th>01M063</th>\n",
       "      <td>THE STAR ACADEMY P.S.63</td>\n",
       "      <td>93.33</td>\n",
       "      <td>90.00</td>\n",
       "      <td>98.75</td>\n",
       "      <td>MANHATTAN</td>\n",
       "      <td>1</td>\n",
       "      <td>2021-06-02</td>\n",
       "    </tr>\n",
       "  </tbody>\n",
       "</table>\n",
       "</div>"
      ],
      "text/plain": [
       "                           School_Name Attn_Pct  Online_Presence  \\\n",
       "DBN                                                                \n",
       "01M015       P.S. 015 ROBERTO CLEMENTE    91.25            89.02   \n",
       "01M019             P.S. 019 ASHER LEVY    93.23            94.08   \n",
       "01M020            P.S. 020 ANNA SILVER    92.64            91.80   \n",
       "01M034  P.S. 034 FRANKLIN D. ROOSEVELT    90.32            87.56   \n",
       "01M063         THE STAR ACADEMY P.S.63    93.33            90.00   \n",
       "\n",
       "        In_Person_Presence    Borough  District_Code Attn_Date_YMD  \n",
       "DBN                                                                 \n",
       "01M015               93.06  MANHATTAN              1    2021-06-02  \n",
       "01M019               89.47  MANHATTAN              1    2021-06-02  \n",
       "01M020               95.14  MANHATTAN              1    2021-06-02  \n",
       "01M034               95.74  MANHATTAN              1    2021-06-02  \n",
       "01M063               98.75  MANHATTAN              1    2021-06-02  "
      ]
     },
     "execution_count": 26,
     "metadata": {},
     "output_type": "execute_result"
    }
   ],
   "source": [
    "df.head()"
   ]
  },
  {
   "cell_type": "code",
   "execution_count": 27,
   "id": "1cca6e95",
   "metadata": {},
   "outputs": [],
   "source": [
    "df.to_csv('data/clean_todays_attendance.csv', encoding='utf-8')"
   ]
  }
 ],
 "metadata": {
  "kernelspec": {
   "display_name": "Python 3",
   "language": "python",
   "name": "python3"
  },
  "language_info": {
   "codemirror_mode": {
    "name": "ipython",
    "version": 3
   },
   "file_extension": ".py",
   "mimetype": "text/x-python",
   "name": "python",
   "nbconvert_exporter": "python",
   "pygments_lexer": "ipython3",
   "version": "3.8.8"
  }
 },
 "nbformat": 4,
 "nbformat_minor": 5
}
