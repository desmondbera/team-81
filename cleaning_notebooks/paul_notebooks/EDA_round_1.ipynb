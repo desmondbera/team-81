{
 "cells": [
  {
   "cell_type": "code",
   "execution_count": 221,
   "id": "9f2a7860",
   "metadata": {},
   "outputs": [],
   "source": [
    "import pandas as pd\n",
    "import numpy as np\n",
    "from scipy import stats\n",
    "import pingouin as pg\n",
    "from matplotlib import pyplot as plt\n",
    "import seaborn as sns\n",
    "import geopandas\n",
    "import geopy\n",
    "from geopy import Nominatim\n",
    "from geopy.extra.rate_limiter import RateLimiter\n",
    "from fuzzywuzzy import fuzz\n",
    "from fuzzywuzzy import process\n",
    "import re\n",
    "\n",
    "import warnings\n",
    "warnings.filterwarnings('ignore')"
   ]
  },
  {
   "cell_type": "code",
   "execution_count": 141,
   "id": "9b94eb82",
   "metadata": {},
   "outputs": [],
   "source": [
    "# Load datasets for mental health services, SBHCs, and police outcomes\n",
    "mhs = pd.read_csv('../../data_sets/cleaned_data_sets/smh_service_clean.csv')\n",
    "sbhc = pd.read_csv('../../data_sets/cleaned_data_sets/list_of_nyc_schoolbhc_clean.csv')\n",
    "policing = pd.read_csv('../../data_sets/cleaned_data_sets/clean_SSA_Report_School_2020.csv')\n",
    "demographics = pd.read_csv('../../data_sets/cleaned_data_sets/clean_demographic_snapshot_schools.csv')"
   ]
  },
  {
   "cell_type": "code",
   "execution_count": 157,
   "id": "9a200dd2",
   "metadata": {},
   "outputs": [
    {
     "data": {
      "text/html": [
       "<div>\n",
       "<style scoped>\n",
       "    .dataframe tbody tr th:only-of-type {\n",
       "        vertical-align: middle;\n",
       "    }\n",
       "\n",
       "    .dataframe tbody tr th {\n",
       "        vertical-align: top;\n",
       "    }\n",
       "\n",
       "    .dataframe thead th {\n",
       "        text-align: right;\n",
       "    }\n",
       "</style>\n",
       "<table border=\"1\" class=\"dataframe\">\n",
       "  <thead>\n",
       "    <tr style=\"text-align: right;\">\n",
       "      <th></th>\n",
       "      <th>Unnamed: 0</th>\n",
       "      <th>ATS System Code</th>\n",
       "      <th>Location Name</th>\n",
       "      <th>Primary Address</th>\n",
       "      <th>Area</th>\n",
       "      <th>Zip Code</th>\n",
       "      <th>Type of Service</th>\n",
       "    </tr>\n",
       "  </thead>\n",
       "  <tbody>\n",
       "    <tr>\n",
       "      <th>0</th>\n",
       "      <td>0</td>\n",
       "      <td>01M015</td>\n",
       "      <td>P.S. 015 Roberto Clemente</td>\n",
       "      <td>333 EAST 4 STREET</td>\n",
       "      <td>MANHATTAN</td>\n",
       "      <td>10009</td>\n",
       "      <td>Community School MH</td>\n",
       "    </tr>\n",
       "    <tr>\n",
       "      <th>1</th>\n",
       "      <td>1</td>\n",
       "      <td>01M020</td>\n",
       "      <td>P.S. 020 Anna Silver</td>\n",
       "      <td>166 ESSEX STREET</td>\n",
       "      <td>MANHATTAN</td>\n",
       "      <td>10002</td>\n",
       "      <td>School-based Mental Health Clinic</td>\n",
       "    </tr>\n",
       "    <tr>\n",
       "      <th>2</th>\n",
       "      <td>2</td>\n",
       "      <td>01M034</td>\n",
       "      <td>P.S. 034 Franklin D. Roosevelt</td>\n",
       "      <td>730 EAST 12 STREET</td>\n",
       "      <td>MANHATTAN</td>\n",
       "      <td>10009</td>\n",
       "      <td>School-based Mental Health Clinic</td>\n",
       "    </tr>\n",
       "    <tr>\n",
       "      <th>3</th>\n",
       "      <td>3</td>\n",
       "      <td>01M063</td>\n",
       "      <td>The STAR Academy - P.S.63</td>\n",
       "      <td>121 EAST 3 STREET</td>\n",
       "      <td>MANHATTAN</td>\n",
       "      <td>10009</td>\n",
       "      <td>School-based Mental Health Clinic</td>\n",
       "    </tr>\n",
       "    <tr>\n",
       "      <th>4</th>\n",
       "      <td>4</td>\n",
       "      <td>01M064</td>\n",
       "      <td>P.S. 064 Robert Simon</td>\n",
       "      <td>600 EAST 6 STREET</td>\n",
       "      <td>MANHATTAN</td>\n",
       "      <td>10009</td>\n",
       "      <td>School-based Health Center w/ Mental Health</td>\n",
       "    </tr>\n",
       "  </tbody>\n",
       "</table>\n",
       "</div>"
      ],
      "text/plain": [
       "   Unnamed: 0 ATS System Code                   Location Name  \\\n",
       "0           0          01M015       P.S. 015 Roberto Clemente   \n",
       "1           1          01M020            P.S. 020 Anna Silver   \n",
       "2           2          01M034  P.S. 034 Franklin D. Roosevelt   \n",
       "3           3          01M063       The STAR Academy - P.S.63   \n",
       "4           4          01M064           P.S. 064 Robert Simon   \n",
       "\n",
       "      Primary Address       Area  Zip Code  \\\n",
       "0   333 EAST 4 STREET  MANHATTAN     10009   \n",
       "1    166 ESSEX STREET  MANHATTAN     10002   \n",
       "2  730 EAST 12 STREET  MANHATTAN     10009   \n",
       "3   121 EAST 3 STREET  MANHATTAN     10009   \n",
       "4   600 EAST 6 STREET  MANHATTAN     10009   \n",
       "\n",
       "                               Type of Service  \n",
       "0                          Community School MH  \n",
       "1            School-based Mental Health Clinic  \n",
       "2            School-based Mental Health Clinic  \n",
       "3            School-based Mental Health Clinic  \n",
       "4  School-based Health Center w/ Mental Health  "
      ]
     },
     "execution_count": 157,
     "metadata": {},
     "output_type": "execute_result"
    }
   ],
   "source": [
    "mhs.head()\n",
    "# mhs['ATS System Code'].value_counts()\n",
    "# Only one record per school"
   ]
  },
  {
   "cell_type": "code",
   "execution_count": 143,
   "id": "9b7dbb4b",
   "metadata": {},
   "outputs": [
    {
     "data": {
      "text/html": [
       "<div>\n",
       "<style scoped>\n",
       "    .dataframe tbody tr th:only-of-type {\n",
       "        vertical-align: middle;\n",
       "    }\n",
       "\n",
       "    .dataframe tbody tr th {\n",
       "        vertical-align: top;\n",
       "    }\n",
       "\n",
       "    .dataframe thead th {\n",
       "        text-align: right;\n",
       "    }\n",
       "</style>\n",
       "<table border=\"1\" class=\"dataframe\">\n",
       "  <thead>\n",
       "    <tr style=\"text-align: right;\">\n",
       "      <th></th>\n",
       "      <th>Unnamed: 0</th>\n",
       "      <th>SBHC Sponsor</th>\n",
       "      <th>SBHC Campus</th>\n",
       "      <th>Address</th>\n",
       "      <th>School DBN</th>\n",
       "      <th>School Name</th>\n",
       "    </tr>\n",
       "  </thead>\n",
       "  <tbody>\n",
       "    <tr>\n",
       "      <th>0</th>\n",
       "      <td>0</td>\n",
       "      <td>Bedford-Stuyvesant Family Health Center</td>\n",
       "      <td>PS 054 Samuel C Barnes</td>\n",
       "      <td>195 Sandford Street\\nBrooklyn, NY, 11205</td>\n",
       "      <td>13K054 K141@13K054</td>\n",
       "      <td>P.S. 054 Samuel C. Barnes D75 Program</td>\n",
       "    </tr>\n",
       "    <tr>\n",
       "      <th>1</th>\n",
       "      <td>1</td>\n",
       "      <td>Bedford-Stuyvesant Family Health Center</td>\n",
       "      <td>PS 256 Benjamin Banneker</td>\n",
       "      <td>114 Kosciuszko Street\\nBrooklyn, NY, 11216</td>\n",
       "      <td>13K256\\n84K702</td>\n",
       "      <td>P.S. 256 Benjamin Banneker Community Partnersh...</td>\n",
       "    </tr>\n",
       "    <tr>\n",
       "      <th>2</th>\n",
       "      <td>2</td>\n",
       "      <td>Bedford-Stuyvesant Family Health Center</td>\n",
       "      <td>George E Wibecan Campus</td>\n",
       "      <td>794 Monroe Street\\nBrooklyn, NY, 11221</td>\n",
       "      <td>16K309\\n84K712</td>\n",
       "      <td>P.S. 309 The George E. Wibecan Preparatory Aca...</td>\n",
       "    </tr>\n",
       "    <tr>\n",
       "      <th>3</th>\n",
       "      <td>3</td>\n",
       "      <td>Brooklyn Plaza Medical Center</td>\n",
       "      <td>Benjamin Banneker\\nAcademy</td>\n",
       "      <td>71 Clinton Avenue\\nBrooklyn, NY, 11205</td>\n",
       "      <td>13K670</td>\n",
       "      <td>Benjamin Banneker Academy</td>\n",
       "    </tr>\n",
       "    <tr>\n",
       "      <th>4</th>\n",
       "      <td>4</td>\n",
       "      <td>Brownsville Multi-Service Family Health</td>\n",
       "      <td>Thomas Jefferson Campus</td>\n",
       "      <td>400 Pennsylvania Avenue\\nBrooklyn, NY, 11207</td>\n",
       "      <td>19K502\\n19K504\\n19K507\\n19K510\\n79K925@K435\\n7...</td>\n",
       "      <td>FDNY - Captain Vernon A. Richard High School F...</td>\n",
       "    </tr>\n",
       "  </tbody>\n",
       "</table>\n",
       "</div>"
      ],
      "text/plain": [
       "   Unnamed: 0                             SBHC Sponsor  \\\n",
       "0           0  Bedford-Stuyvesant Family Health Center   \n",
       "1           1  Bedford-Stuyvesant Family Health Center   \n",
       "2           2  Bedford-Stuyvesant Family Health Center   \n",
       "3           3            Brooklyn Plaza Medical Center   \n",
       "4           4  Brownsville Multi-Service Family Health   \n",
       "\n",
       "                  SBHC Campus                                       Address  \\\n",
       "0      PS 054 Samuel C Barnes      195 Sandford Street\\nBrooklyn, NY, 11205   \n",
       "1    PS 256 Benjamin Banneker    114 Kosciuszko Street\\nBrooklyn, NY, 11216   \n",
       "2     George E Wibecan Campus        794 Monroe Street\\nBrooklyn, NY, 11221   \n",
       "3  Benjamin Banneker\\nAcademy        71 Clinton Avenue\\nBrooklyn, NY, 11205   \n",
       "4     Thomas Jefferson Campus  400 Pennsylvania Avenue\\nBrooklyn, NY, 11207   \n",
       "\n",
       "                                          School DBN  \\\n",
       "0                                 13K054 K141@13K054   \n",
       "1                                     13K256\\n84K702   \n",
       "2                                     16K309\\n84K712   \n",
       "3                                             13K670   \n",
       "4  19K502\\n19K504\\n19K507\\n19K510\\n79K925@K435\\n7...   \n",
       "\n",
       "                                         School Name  \n",
       "0              P.S. 054 Samuel C. Barnes D75 Program  \n",
       "1  P.S. 256 Benjamin Banneker Community Partnersh...  \n",
       "2  P.S. 309 The George E. Wibecan Preparatory Aca...  \n",
       "3                          Benjamin Banneker Academy  \n",
       "4  FDNY - Captain Vernon A. Richard High School F...  "
      ]
     },
     "execution_count": 143,
     "metadata": {},
     "output_type": "execute_result"
    }
   ],
   "source": [
    "sbhc.head()"
   ]
  },
  {
   "cell_type": "code",
   "execution_count": 144,
   "id": "fa2ad16d",
   "metadata": {},
   "outputs": [
    {
     "data": {
      "text/html": [
       "<div>\n",
       "<style scoped>\n",
       "    .dataframe tbody tr th:only-of-type {\n",
       "        vertical-align: middle;\n",
       "    }\n",
       "\n",
       "    .dataframe tbody tr th {\n",
       "        vertical-align: top;\n",
       "    }\n",
       "\n",
       "    .dataframe thead th {\n",
       "        text-align: right;\n",
       "    }\n",
       "</style>\n",
       "<table border=\"1\" class=\"dataframe\">\n",
       "  <thead>\n",
       "    <tr style=\"text-align: right;\">\n",
       "      <th></th>\n",
       "      <th>Unnamed: 0</th>\n",
       "      <th>School Campus</th>\n",
       "      <th>Intervention Type</th>\n",
       "      <th>Incident Location</th>\n",
       "      <th>Greater Than 21</th>\n",
       "      <th>Scanning Type</th>\n",
       "      <th>Scanning Incident</th>\n",
       "      <th>School Related</th>\n",
       "      <th>School Hours</th>\n",
       "      <th>Enforcment By</th>\n",
       "      <th>Restraints</th>\n",
       "      <th>Force</th>\n",
       "      <th>Type Of Force</th>\n",
       "      <th>Top Charge</th>\n",
       "      <th>SummonsCharge</th>\n",
       "      <th>Classification</th>\n",
       "    </tr>\n",
       "  </thead>\n",
       "  <tbody>\n",
       "    <tr>\n",
       "      <th>0</th>\n",
       "      <td>0</td>\n",
       "      <td>47 THE AMERICAN SIGN LANGUAGE &amp; ENGLISH SECOND...</td>\n",
       "      <td>Child in Crisis</td>\n",
       "      <td>On-Site</td>\n",
       "      <td>No</td>\n",
       "      <td>Non-Scanning</td>\n",
       "      <td>N</td>\n",
       "      <td>Y</td>\n",
       "      <td>Y</td>\n",
       "      <td>NaN</td>\n",
       "      <td>No Restraints</td>\n",
       "      <td>N</td>\n",
       "      <td>None</td>\n",
       "      <td>NaN</td>\n",
       "      <td>NaN</td>\n",
       "      <td>NaN</td>\n",
       "    </tr>\n",
       "    <tr>\n",
       "      <th>1</th>\n",
       "      <td>1</td>\n",
       "      <td>47 THE AMERICAN SIGN LANGUAGE &amp; ENGLISH SECOND...</td>\n",
       "      <td>Child in Crisis</td>\n",
       "      <td>On-Site</td>\n",
       "      <td>No</td>\n",
       "      <td>Non-Scanning</td>\n",
       "      <td>N</td>\n",
       "      <td>Y</td>\n",
       "      <td>Y</td>\n",
       "      <td>NaN</td>\n",
       "      <td>No Restraints</td>\n",
       "      <td>N</td>\n",
       "      <td>None</td>\n",
       "      <td>NaN</td>\n",
       "      <td>NaN</td>\n",
       "      <td>NaN</td>\n",
       "    </tr>\n",
       "    <tr>\n",
       "      <th>2</th>\n",
       "      <td>2</td>\n",
       "      <td>47 THE AMERICAN SIGN LANGUAGE &amp; ENGLISH SECOND...</td>\n",
       "      <td>Mitigated</td>\n",
       "      <td>On-Site</td>\n",
       "      <td>No</td>\n",
       "      <td>Non-Scanning</td>\n",
       "      <td>N</td>\n",
       "      <td>Y</td>\n",
       "      <td>Y</td>\n",
       "      <td>DOE</td>\n",
       "      <td>No Restraints</td>\n",
       "      <td>N</td>\n",
       "      <td>None</td>\n",
       "      <td>NaN</td>\n",
       "      <td>NaN</td>\n",
       "      <td>NaN</td>\n",
       "    </tr>\n",
       "    <tr>\n",
       "      <th>3</th>\n",
       "      <td>3</td>\n",
       "      <td>Abraham Lincoln HS(BS)</td>\n",
       "      <td>Juvenile Report</td>\n",
       "      <td>On-Site</td>\n",
       "      <td>No</td>\n",
       "      <td>Full-Time</td>\n",
       "      <td>N</td>\n",
       "      <td>Y</td>\n",
       "      <td>N</td>\n",
       "      <td>PATROL</td>\n",
       "      <td>No Restraints</td>\n",
       "      <td>N</td>\n",
       "      <td>None</td>\n",
       "      <td>NaN</td>\n",
       "      <td>NaN</td>\n",
       "      <td>M</td>\n",
       "    </tr>\n",
       "    <tr>\n",
       "      <th>4</th>\n",
       "      <td>4</td>\n",
       "      <td>Abraham Lincoln HS(BS)</td>\n",
       "      <td>Juvenile Report</td>\n",
       "      <td>On-Site</td>\n",
       "      <td>No</td>\n",
       "      <td>Full-Time</td>\n",
       "      <td>Y</td>\n",
       "      <td>Y</td>\n",
       "      <td>Y</td>\n",
       "      <td>SSA</td>\n",
       "      <td>No Restraints</td>\n",
       "      <td>N</td>\n",
       "      <td>None</td>\n",
       "      <td>NaN</td>\n",
       "      <td>NaN</td>\n",
       "      <td>M</td>\n",
       "    </tr>\n",
       "  </tbody>\n",
       "</table>\n",
       "</div>"
      ],
      "text/plain": [
       "   Unnamed: 0                                      School Campus  \\\n",
       "0           0  47 THE AMERICAN SIGN LANGUAGE & ENGLISH SECOND...   \n",
       "1           1  47 THE AMERICAN SIGN LANGUAGE & ENGLISH SECOND...   \n",
       "2           2  47 THE AMERICAN SIGN LANGUAGE & ENGLISH SECOND...   \n",
       "3           3                             Abraham Lincoln HS(BS)   \n",
       "4           4                             Abraham Lincoln HS(BS)   \n",
       "\n",
       "  Intervention Type Incident Location Greater Than 21 Scanning Type  \\\n",
       "0   Child in Crisis           On-Site              No  Non-Scanning   \n",
       "1   Child in Crisis           On-Site              No  Non-Scanning   \n",
       "2         Mitigated           On-Site              No  Non-Scanning   \n",
       "3   Juvenile Report           On-Site              No     Full-Time   \n",
       "4   Juvenile Report           On-Site              No     Full-Time   \n",
       "\n",
       "  Scanning Incident School Related School Hours Enforcment By     Restraints  \\\n",
       "0                 N              Y            Y           NaN  No Restraints   \n",
       "1                 N              Y            Y           NaN  No Restraints   \n",
       "2                 N              Y            Y           DOE  No Restraints   \n",
       "3                 N              Y            N        PATROL  No Restraints   \n",
       "4                 Y              Y            Y           SSA  No Restraints   \n",
       "\n",
       "  Force Type Of Force Top Charge SummonsCharge Classification  \n",
       "0     N          None        NaN           NaN            NaN  \n",
       "1     N          None        NaN           NaN            NaN  \n",
       "2     N          None        NaN           NaN            NaN  \n",
       "3     N          None        NaN           NaN              M  \n",
       "4     N          None        NaN           NaN              M  "
      ]
     },
     "execution_count": 144,
     "metadata": {},
     "output_type": "execute_result"
    }
   ],
   "source": [
    "policing.head()"
   ]
  },
  {
   "cell_type": "code",
   "execution_count": 145,
   "id": "986c28c2",
   "metadata": {},
   "outputs": [
    {
     "data": {
      "text/html": [
       "<div>\n",
       "<style scoped>\n",
       "    .dataframe tbody tr th:only-of-type {\n",
       "        vertical-align: middle;\n",
       "    }\n",
       "\n",
       "    .dataframe tbody tr th {\n",
       "        vertical-align: top;\n",
       "    }\n",
       "\n",
       "    .dataframe thead th {\n",
       "        text-align: right;\n",
       "    }\n",
       "</style>\n",
       "<table border=\"1\" class=\"dataframe\">\n",
       "  <thead>\n",
       "    <tr style=\"text-align: right;\">\n",
       "      <th></th>\n",
       "      <th>DBN</th>\n",
       "      <th>School Name</th>\n",
       "      <th>Year</th>\n",
       "      <th>Total Enrollment</th>\n",
       "      <th>Grade 3K+PK (Half Day &amp; Full Day)</th>\n",
       "      <th>Grade K</th>\n",
       "      <th>Grade 1</th>\n",
       "      <th>Grade 2</th>\n",
       "      <th>Grade 3</th>\n",
       "      <th>Grade 4</th>\n",
       "      <th>...</th>\n",
       "      <th>% White</th>\n",
       "      <th># Missing Race/Ethnicity Data</th>\n",
       "      <th>% Missing Race/Ethnicity Data</th>\n",
       "      <th># Students with Disabilities</th>\n",
       "      <th>% Students with Disabilities</th>\n",
       "      <th># English Language Learners</th>\n",
       "      <th>% English Language Learners</th>\n",
       "      <th># Poverty</th>\n",
       "      <th>% Poverty</th>\n",
       "      <th>Economic Need Index</th>\n",
       "    </tr>\n",
       "  </thead>\n",
       "  <tbody>\n",
       "    <tr>\n",
       "      <th>0</th>\n",
       "      <td>01M015</td>\n",
       "      <td>P.S. 015 Roberto Clemente</td>\n",
       "      <td>2016-17</td>\n",
       "      <td>178</td>\n",
       "      <td>17</td>\n",
       "      <td>28</td>\n",
       "      <td>33</td>\n",
       "      <td>27</td>\n",
       "      <td>31</td>\n",
       "      <td>24</td>\n",
       "      <td>...</td>\n",
       "      <td>2.2%</td>\n",
       "      <td>0</td>\n",
       "      <td>0.0%</td>\n",
       "      <td>51</td>\n",
       "      <td>28.7%</td>\n",
       "      <td>12</td>\n",
       "      <td>6.7%</td>\n",
       "      <td>152</td>\n",
       "      <td>85.4%</td>\n",
       "      <td>88.2%</td>\n",
       "    </tr>\n",
       "    <tr>\n",
       "      <th>1</th>\n",
       "      <td>01M015</td>\n",
       "      <td>P.S. 015 Roberto Clemente</td>\n",
       "      <td>2017-18</td>\n",
       "      <td>190</td>\n",
       "      <td>17</td>\n",
       "      <td>28</td>\n",
       "      <td>32</td>\n",
       "      <td>33</td>\n",
       "      <td>23</td>\n",
       "      <td>31</td>\n",
       "      <td>...</td>\n",
       "      <td>3.2%</td>\n",
       "      <td>0</td>\n",
       "      <td>0.0%</td>\n",
       "      <td>49</td>\n",
       "      <td>25.8%</td>\n",
       "      <td>8</td>\n",
       "      <td>4.2%</td>\n",
       "      <td>161</td>\n",
       "      <td>84.7%</td>\n",
       "      <td>89.0%</td>\n",
       "    </tr>\n",
       "    <tr>\n",
       "      <th>2</th>\n",
       "      <td>01M015</td>\n",
       "      <td>P.S. 015 Roberto Clemente</td>\n",
       "      <td>2018-19</td>\n",
       "      <td>174</td>\n",
       "      <td>13</td>\n",
       "      <td>20</td>\n",
       "      <td>33</td>\n",
       "      <td>30</td>\n",
       "      <td>30</td>\n",
       "      <td>20</td>\n",
       "      <td>...</td>\n",
       "      <td>3.4%</td>\n",
       "      <td>0</td>\n",
       "      <td>0.0%</td>\n",
       "      <td>39</td>\n",
       "      <td>22.4%</td>\n",
       "      <td>8</td>\n",
       "      <td>4.6%</td>\n",
       "      <td>147</td>\n",
       "      <td>84.5%</td>\n",
       "      <td>88.8%</td>\n",
       "    </tr>\n",
       "    <tr>\n",
       "      <th>3</th>\n",
       "      <td>01M015</td>\n",
       "      <td>P.S. 015 Roberto Clemente</td>\n",
       "      <td>2019-20</td>\n",
       "      <td>190</td>\n",
       "      <td>14</td>\n",
       "      <td>29</td>\n",
       "      <td>28</td>\n",
       "      <td>38</td>\n",
       "      <td>33</td>\n",
       "      <td>29</td>\n",
       "      <td>...</td>\n",
       "      <td>4.7%</td>\n",
       "      <td>0</td>\n",
       "      <td>0.0%</td>\n",
       "      <td>46</td>\n",
       "      <td>24.2%</td>\n",
       "      <td>17</td>\n",
       "      <td>8.9%</td>\n",
       "      <td>155</td>\n",
       "      <td>81.6%</td>\n",
       "      <td>86.7%</td>\n",
       "    </tr>\n",
       "    <tr>\n",
       "      <th>4</th>\n",
       "      <td>01M015</td>\n",
       "      <td>P.S. 015 Roberto Clemente</td>\n",
       "      <td>2020-21</td>\n",
       "      <td>193</td>\n",
       "      <td>17</td>\n",
       "      <td>29</td>\n",
       "      <td>29</td>\n",
       "      <td>27</td>\n",
       "      <td>30</td>\n",
       "      <td>32</td>\n",
       "      <td>...</td>\n",
       "      <td>5.7%</td>\n",
       "      <td>0</td>\n",
       "      <td>0.0%</td>\n",
       "      <td>43</td>\n",
       "      <td>22.3%</td>\n",
       "      <td>21</td>\n",
       "      <td>10.9%</td>\n",
       "      <td>158</td>\n",
       "      <td>81.9%</td>\n",
       "      <td>85.6%</td>\n",
       "    </tr>\n",
       "  </tbody>\n",
       "</table>\n",
       "<p>5 rows × 43 columns</p>\n",
       "</div>"
      ],
      "text/plain": [
       "      DBN                School Name     Year  Total Enrollment  \\\n",
       "0  01M015  P.S. 015 Roberto Clemente  2016-17               178   \n",
       "1  01M015  P.S. 015 Roberto Clemente  2017-18               190   \n",
       "2  01M015  P.S. 015 Roberto Clemente  2018-19               174   \n",
       "3  01M015  P.S. 015 Roberto Clemente  2019-20               190   \n",
       "4  01M015  P.S. 015 Roberto Clemente  2020-21               193   \n",
       "\n",
       "   Grade 3K+PK (Half Day & Full Day)  Grade K  Grade 1  Grade 2  Grade 3  \\\n",
       "0                                 17       28       33       27       31   \n",
       "1                                 17       28       32       33       23   \n",
       "2                                 13       20       33       30       30   \n",
       "3                                 14       29       28       38       33   \n",
       "4                                 17       29       29       27       30   \n",
       "\n",
       "   Grade 4  ...  % White  # Missing Race/Ethnicity Data  \\\n",
       "0       24  ...     2.2%                              0   \n",
       "1       31  ...     3.2%                              0   \n",
       "2       20  ...     3.4%                              0   \n",
       "3       29  ...     4.7%                              0   \n",
       "4       32  ...     5.7%                              0   \n",
       "\n",
       "   % Missing Race/Ethnicity Data  # Students with Disabilities  \\\n",
       "0                           0.0%                            51   \n",
       "1                           0.0%                            49   \n",
       "2                           0.0%                            39   \n",
       "3                           0.0%                            46   \n",
       "4                           0.0%                            43   \n",
       "\n",
       "   % Students with Disabilities  # English Language Learners  \\\n",
       "0                         28.7%                           12   \n",
       "1                         25.8%                            8   \n",
       "2                         22.4%                            8   \n",
       "3                         24.2%                           17   \n",
       "4                         22.3%                           21   \n",
       "\n",
       "   % English Language Learners  # Poverty % Poverty Economic Need Index  \n",
       "0                         6.7%        152     85.4%               88.2%  \n",
       "1                         4.2%        161     84.7%               89.0%  \n",
       "2                         4.6%        147     84.5%               88.8%  \n",
       "3                         8.9%        155     81.6%               86.7%  \n",
       "4                        10.9%        158     81.9%               85.6%  \n",
       "\n",
       "[5 rows x 43 columns]"
      ]
     },
     "execution_count": 145,
     "metadata": {},
     "output_type": "execute_result"
    }
   ],
   "source": [
    "demographics.head()"
   ]
  },
  {
   "cell_type": "markdown",
   "id": "cfc1a574",
   "metadata": {},
   "source": [
    "# Do mental health services provided at schools differ according to % poverty, disability, English language learners of student body?"
   ]
  },
  {
   "cell_type": "markdown",
   "id": "885e3393",
   "metadata": {},
   "source": [
    "### We do not use the same approach to mental health services at every school. A variety of programs are implemented through the School Mental Health Program. Schools were assigned to mental health programs based on various factors such as school need, community resources, and existing mental health services. One of the following mental health programs is offered at your child’s school:\n",
    "\n",
    "* **Community School Mental Health Program**\n",
    "  * works with community mental-health providers to offer counseling, trainings, interventions, and crisis support.\n",
    "* **School Mental Health Specialist Program**\n",
    "  * connects schools with mental-health organizations, provides trainings, implements trauma-informed group interventions and links students and families to community resources.\n",
    "* **School Mental Health Prevention and Intervention Program**\n",
    "  * offers counseling, trainings, crisis support, and interventions.\n",
    "* **School Response Team Programs**\n",
    "  * provide crisis support and interventions, staff trainings, and mental-health referrals for families and students.\n",
    "* **School-Based Mental Health Clinics (Article 31)**\n",
    "  * provide individual and family treatment and crisis support in the school for students and their families.\n",
    "* **School-Based Health Centers with Mental Health Services (Article 28)**\n",
    "  * provide health services such as physical exams, vaccinations, and mental health services.\n",
    "\n",
    "[source](https://www.schools.nyc.gov/school-life/health-and-wellness/mental-health)"
   ]
  },
  {
   "cell_type": "code",
   "execution_count": 349,
   "id": "a26f9f5d",
   "metadata": {},
   "outputs": [
    {
     "data": {
      "text/plain": [
       "4     27.5%\n",
       "9     13.3%\n",
       "14    38.1%\n",
       "19    19.2%\n",
       "24    18.2%\n",
       "Name: % Black, dtype: object"
      ]
     },
     "execution_count": 349,
     "metadata": {},
     "output_type": "execute_result"
    }
   ],
   "source": [
    "# Merge mhs and demographics data\n",
    "mhs_demo = mhs.merge(\n",
    "    demographics,\n",
    "    how='inner',\n",
    "    left_on='ATS System Code',\n",
    "    right_on='DBN'\n",
    ")\n",
    "\n",
    "# Subset just to 2020-21 demographics for now (the MHS data is from 2020-21)\n",
    "mhs_demo_21 = mhs_demo[mhs_demo['Year'] == '2020-21']\n",
    "\n",
    "mhs_demo_21['% Black'].head()"
   ]
  },
  {
   "cell_type": "code",
   "execution_count": 147,
   "id": "02f22c67",
   "metadata": {},
   "outputs": [
    {
     "data": {
      "text/plain": [
       "array(['Community School MH', 'School-based Mental Health Clinic',\n",
       "       'School-based Health Center w/ Mental Health',\n",
       "       'School Mental Health Specialist Program', 'School Response Team',\n",
       "       'Prevention Intervention Program MH', 'H+H School'], dtype=object)"
      ]
     },
     "execution_count": 147,
     "metadata": {},
     "output_type": "execute_result"
    }
   ],
   "source": [
    "mhs_demo_21['Type of Service'].unique()"
   ]
  },
  {
   "cell_type": "code",
   "execution_count": 350,
   "id": "f24481ad",
   "metadata": {
    "scrolled": true
   },
   "outputs": [],
   "source": [
    "def remove_non_numbers(x):\n",
    "    '''\n",
    "    Function to take a string and remove any non-numeric or decimal points, in order to cast as float.\n",
    "    '''\n",
    "    return float(re.sub('[^\\d+\\.]', '', x))\n",
    "\n",
    "\n",
    "def plot_percent_and_category(df, percent, category):\n",
    "    '''\n",
    "    Function to plot a percent variable against a categorical variable.\n",
    "    \n",
    "    Args: df: a pandas DataFrame\n",
    "    percent: string, column name of percent column\n",
    "    category: string, column name of cateogrical column\n",
    "    \n",
    "    Returns:\n",
    "    '''\n",
    "    # Set x as float of % poverty\n",
    "    x = df[percent].map(remove_non_numbers)\n",
    "    y = df[category].astype('category')\n",
    "    \n",
    "    sns.boxplot(x=x, y=y)\n",
    "    \n",
    "    plt.show()"
   ]
  },
  {
   "cell_type": "code",
   "execution_count": 351,
   "id": "f42bcc96",
   "metadata": {},
   "outputs": [
    {
     "data": {
      "image/png": "[encoded data removed]",
      "text/plain": [
       "<Figure size 432x288 with 1 Axes>"
      ]
     },
     "metadata": {
      "needs_background": "light"
     },
     "output_type": "display_data"
    },
    {
     "data": {
      "image/png": "[encoded data removed]",
      "text/plain": [
       "<Figure size 432x288 with 1 Axes>"
      ]
     },
     "metadata": {
      "needs_background": "light"
     },
     "output_type": "display_data"
    },
    {
     "data": {
      "image/png": "[encoded data removed]",
      "text/plain": [
       "<Figure size 432x288 with 1 Axes>"
      ]
     },
     "metadata": {
      "needs_background": "light"
     },
     "output_type": "display_data"
    },
    {
     "data": {
      "image/png": "[encoded data removed]",
      "text/plain": [
       "<Figure size 432x288 with 1 Axes>"
      ]
     },
     "metadata": {
      "needs_background": "light"
     },
     "output_type": "display_data"
    }
   ],
   "source": [
    "plot_percent_and_category(mhs_demo_21, '% Poverty', 'Type of Service')\n",
    "plot_percent_and_category(mhs_demo_21, '% Students with Disabilities', 'Type of Service')\n",
    "plot_percent_and_category(mhs_demo_21, '% English Language Learners', 'Type of Service')\n",
    "plot_percent_and_category(mhs_demo_21, '% Black', 'Type of Service')"
   ]
  },
  {
   "cell_type": "code",
   "execution_count": 352,
   "id": "5eee7040",
   "metadata": {},
   "outputs": [],
   "source": [
    "def one_way_anova(df, percent):\n",
    "    \n",
    "    try:\n",
    "        df[percent] = df[percent].map(remove_non_numbers)\n",
    "    except:\n",
    "        df[percent] = df[percent]\n",
    "\n",
    "    _, pvalue = stats.f_oneway(\n",
    "        df[df['Type of Service'] == 'Community School MH'][percent],\n",
    "        df[df['Type of Service'] == 'H+H School'][percent],\n",
    "        df[df['Type of Service'] == 'Prevention Intervention Program MH'][percent],\n",
    "        df[df['Type of Service'] == 'School Mental Health Specialist Program'][percent],\n",
    "        df[df['Type of Service'] == 'School Response Team'][percent],\n",
    "        df[df['Type of Service'] == 'School-based Health Center w/ Mental Health'][percent],\n",
    "        df[df['Type of Service'] == 'School-based Mental Health Clinic'][percent]\n",
    "    )\n",
    "    \n",
    "    return '{}: {}'.format(percent, pvalue)"
   ]
  },
  {
   "cell_type": "code",
   "execution_count": 353,
   "id": "68bba1a9",
   "metadata": {},
   "outputs": [
    {
     "data": {
      "text/plain": [
       "'% Poverty: 2.4195759375168023e-21'"
      ]
     },
     "execution_count": 353,
     "metadata": {},
     "output_type": "execute_result"
    }
   ],
   "source": [
    "one_way_anova(mhs_demo_21, '% Poverty')"
   ]
  },
  {
   "cell_type": "code",
   "execution_count": 354,
   "id": "5ce9d765",
   "metadata": {},
   "outputs": [
    {
     "data": {
      "text/plain": [
       "'% Students with Disabilities: 1.3227768105444662e-08'"
      ]
     },
     "execution_count": 354,
     "metadata": {},
     "output_type": "execute_result"
    }
   ],
   "source": [
    "one_way_anova(mhs_demo_21, '% Students with Disabilities')"
   ]
  },
  {
   "cell_type": "code",
   "execution_count": 355,
   "id": "30fb2348",
   "metadata": {},
   "outputs": [
    {
     "data": {
      "text/plain": [
       "'% English Language Learners: 5.239578472062176e-09'"
      ]
     },
     "execution_count": 355,
     "metadata": {},
     "output_type": "execute_result"
    }
   ],
   "source": [
    "one_way_anova(mhs_demo_21, '% English Language Learners')"
   ]
  },
  {
   "cell_type": "code",
   "execution_count": 356,
   "id": "b698db31",
   "metadata": {},
   "outputs": [
    {
     "data": {
      "text/plain": [
       "'% Black: 1.502676468127871e-14'"
      ]
     },
     "execution_count": 356,
     "metadata": {},
     "output_type": "execute_result"
    }
   ],
   "source": [
    "one_way_anova(mhs_demo_21, '% Black')"
   ]
  },
  {
   "cell_type": "code",
   "execution_count": 357,
   "id": "b81e0ce4",
   "metadata": {},
   "outputs": [
    {
     "data": {
      "text/html": [
       "<div>\n",
       "<style scoped>\n",
       "    .dataframe tbody tr th:only-of-type {\n",
       "        vertical-align: middle;\n",
       "    }\n",
       "\n",
       "    .dataframe tbody tr th {\n",
       "        vertical-align: top;\n",
       "    }\n",
       "\n",
       "    .dataframe thead th {\n",
       "        text-align: right;\n",
       "    }\n",
       "</style>\n",
       "<table border=\"1\" class=\"dataframe\">\n",
       "  <thead>\n",
       "    <tr style=\"text-align: right;\">\n",
       "      <th></th>\n",
       "      <th>% Poverty</th>\n",
       "      <th>% Students with Disabilities</th>\n",
       "      <th>% English Language Learners</th>\n",
       "      <th>% Black</th>\n",
       "    </tr>\n",
       "    <tr>\n",
       "      <th>Type of Service</th>\n",
       "      <th></th>\n",
       "      <th></th>\n",
       "      <th></th>\n",
       "      <th></th>\n",
       "    </tr>\n",
       "  </thead>\n",
       "  <tbody>\n",
       "    <tr>\n",
       "      <th>Community School MH</th>\n",
       "      <td>88.956589</td>\n",
       "      <td>25.760465</td>\n",
       "      <td>18.119380</td>\n",
       "      <td>36.954264</td>\n",
       "    </tr>\n",
       "    <tr>\n",
       "      <th>H+H School</th>\n",
       "      <td>78.057692</td>\n",
       "      <td>31.296154</td>\n",
       "      <td>7.042308</td>\n",
       "      <td>64.565385</td>\n",
       "    </tr>\n",
       "    <tr>\n",
       "      <th>Prevention Intervention Program MH</th>\n",
       "      <td>75.862791</td>\n",
       "      <td>20.011628</td>\n",
       "      <td>10.558140</td>\n",
       "      <td>27.465116</td>\n",
       "    </tr>\n",
       "    <tr>\n",
       "      <th>School Mental Health Specialist Program</th>\n",
       "      <td>72.826923</td>\n",
       "      <td>20.987574</td>\n",
       "      <td>11.443195</td>\n",
       "      <td>25.982249</td>\n",
       "    </tr>\n",
       "    <tr>\n",
       "      <th>School Response Team</th>\n",
       "      <td>76.227586</td>\n",
       "      <td>25.158621</td>\n",
       "      <td>12.603448</td>\n",
       "      <td>33.886207</td>\n",
       "    </tr>\n",
       "    <tr>\n",
       "      <th>School-based Health Center w/ Mental Health</th>\n",
       "      <td>83.345896</td>\n",
       "      <td>22.364925</td>\n",
       "      <td>18.155970</td>\n",
       "      <td>29.897015</td>\n",
       "    </tr>\n",
       "    <tr>\n",
       "      <th>School-based Mental Health Clinic</th>\n",
       "      <td>77.554167</td>\n",
       "      <td>23.215625</td>\n",
       "      <td>12.568750</td>\n",
       "      <td>33.099479</td>\n",
       "    </tr>\n",
       "  </tbody>\n",
       "</table>\n",
       "</div>"
      ],
      "text/plain": [
       "                                             % Poverty  \\\n",
       "Type of Service                                          \n",
       "Community School MH                          88.956589   \n",
       "H+H School                                   78.057692   \n",
       "Prevention Intervention Program MH           75.862791   \n",
       "School Mental Health Specialist Program      72.826923   \n",
       "School Response Team                         76.227586   \n",
       "School-based Health Center w/ Mental Health  83.345896   \n",
       "School-based Mental Health Clinic            77.554167   \n",
       "\n",
       "                                             % Students with Disabilities  \\\n",
       "Type of Service                                                             \n",
       "Community School MH                                             25.760465   \n",
       "H+H School                                                      31.296154   \n",
       "Prevention Intervention Program MH                              20.011628   \n",
       "School Mental Health Specialist Program                         20.987574   \n",
       "School Response Team                                            25.158621   \n",
       "School-based Health Center w/ Mental Health                     22.364925   \n",
       "School-based Mental Health Clinic                               23.215625   \n",
       "\n",
       "                                             % English Language Learners  \\\n",
       "Type of Service                                                            \n",
       "Community School MH                                            18.119380   \n",
       "H+H School                                                      7.042308   \n",
       "Prevention Intervention Program MH                             10.558140   \n",
       "School Mental Health Specialist Program                        11.443195   \n",
       "School Response Team                                           12.603448   \n",
       "School-based Health Center w/ Mental Health                    18.155970   \n",
       "School-based Mental Health Clinic                              12.568750   \n",
       "\n",
       "                                               % Black  \n",
       "Type of Service                                         \n",
       "Community School MH                          36.954264  \n",
       "H+H School                                   64.565385  \n",
       "Prevention Intervention Program MH           27.465116  \n",
       "School Mental Health Specialist Program      25.982249  \n",
       "School Response Team                         33.886207  \n",
       "School-based Health Center w/ Mental Health  29.897015  \n",
       "School-based Mental Health Clinic            33.099479  "
      ]
     },
     "execution_count": 357,
     "metadata": {},
     "output_type": "execute_result"
    }
   ],
   "source": [
    "mhs_demo_21.groupby('Type of Service')[['% Poverty', '% Students with Disabilities', '% English Language Learners', '% Black']].mean()"
   ]
  },
  {
   "cell_type": "markdown",
   "id": "f3273605",
   "metadata": {},
   "source": [
    "# Do mental health services provided at schools differ according to neighborhood poverty?"
   ]
  },
  {
   "cell_type": "markdown",
   "id": "2e0e2189",
   "metadata": {},
   "source": [
    "Maybe will add a map figure in later with geocoded points for school location, points colored by service type, overlaid on a choropleth map based on % of neighborhood living below federal poverty level."
   ]
  },
  {
   "cell_type": "code",
   "execution_count": 161,
   "id": "40b327bb",
   "metadata": {},
   "outputs": [],
   "source": [
    "# locator = Nominatim(user_agent='myGeocoder')"
   ]
  },
  {
   "cell_type": "markdown",
   "id": "7d47615e",
   "metadata": {},
   "source": [
    "# Are mental health services, or certain types of MHS, associated with fewer disciplinary actions or less frequent use of force?"
   ]
  },
  {
   "cell_type": "code",
   "execution_count": 284,
   "id": "9df4bd03",
   "metadata": {},
   "outputs": [],
   "source": [
    "# Have to join MHS and policing datasets by school name...\n",
    "def fuzzy_match_by_school_name(df1, col1, df2, col2):\n",
    "    '''\n",
    "    Function to fuzzy match 2 dataframes by a string column representing school name.\n",
    "    \n",
    "    Args: df1, pandas DataFrame; col1: column name containing school name in df1\n",
    "          df2, pandas DataFrame; col2: column name containing school name in df2\n",
    "          \n",
    "    Returns: pandas DataFrame, df1 and df2 merged on school name\n",
    "    '''\n",
    "    \n",
    "    # Returns best match\n",
    "    matches = df1[col1].apply(lambda x: process.extractOne(x, \n",
    "                                                           df2[col2].unique(),\n",
    "                                                           processor=lambda x: re.sub('\\.|0(\\d+)', r'\\1', x),\n",
    "                                                           scorer=fuzz.token_set_ratio,\n",
    "                                                           score_cutoff=90))\n",
    "    \n",
    "    df3 = df1.merge(\n",
    "        matches, \n",
    "        how='left',\n",
    "        left_index=True, \n",
    "        right_index=True\n",
    "    )\n",
    "    \n",
    "    df3['link'] = df3.iloc[:, -1].str[0]\n",
    "    \n",
    "    df4 = df3.merge(\n",
    "        df2,\n",
    "        how='left',\n",
    "        left_on='link',\n",
    "        right_on=col2\n",
    "    )\n",
    "    \n",
    "    return df4"
   ]
  },
  {
   "cell_type": "code",
   "execution_count": 285,
   "id": "17a21a73",
   "metadata": {},
   "outputs": [],
   "source": [
    "matches = fuzzy_match_by_school_name(mhs_demo_21, 'Location Name', policing, 'School Campus')"
   ]
  },
  {
   "cell_type": "code",
   "execution_count": 292,
   "id": "5ac3745e",
   "metadata": {},
   "outputs": [
    {
     "data": {
      "text/plain": [
       "N    543\n",
       "Y     60\n",
       "Name: Scanning Incident, dtype: int64"
      ]
     },
     "execution_count": 292,
     "metadata": {},
     "output_type": "execute_result"
    }
   ],
   "source": [
    "matches['Force'].value_counts()\n",
    "# Only 3 instances of use of force\n",
    "matches['Restraints'].value_counts()\n",
    "# 63 metal restraints, 6 velcro restraints\n",
    "matches['Scanning Incident'].value_counts()\n",
    "# 60 scanning incidents"
   ]
  },
  {
   "cell_type": "code",
   "execution_count": 297,
   "id": "a23e685f",
   "metadata": {},
   "outputs": [
    {
     "data": {
      "text/html": [
       "<div>\n",
       "<style scoped>\n",
       "    .dataframe tbody tr th:only-of-type {\n",
       "        vertical-align: middle;\n",
       "    }\n",
       "\n",
       "    .dataframe tbody tr th {\n",
       "        vertical-align: top;\n",
       "    }\n",
       "\n",
       "    .dataframe thead th {\n",
       "        text-align: right;\n",
       "    }\n",
       "</style>\n",
       "<table border=\"1\" class=\"dataframe\">\n",
       "  <thead>\n",
       "    <tr style=\"text-align: right;\">\n",
       "      <th>Restraints</th>\n",
       "      <th>Metal</th>\n",
       "      <th>No Restraints</th>\n",
       "      <th>Velcro</th>\n",
       "    </tr>\n",
       "    <tr>\n",
       "      <th>Type of Service</th>\n",
       "      <th></th>\n",
       "      <th></th>\n",
       "      <th></th>\n",
       "    </tr>\n",
       "  </thead>\n",
       "  <tbody>\n",
       "    <tr>\n",
       "      <th>Community School MH</th>\n",
       "      <td>13</td>\n",
       "      <td>129</td>\n",
       "      <td>1</td>\n",
       "    </tr>\n",
       "    <tr>\n",
       "      <th>H+H School</th>\n",
       "      <td>4</td>\n",
       "      <td>11</td>\n",
       "      <td>0</td>\n",
       "    </tr>\n",
       "    <tr>\n",
       "      <th>Prevention Intervention Program MH</th>\n",
       "      <td>4</td>\n",
       "      <td>33</td>\n",
       "      <td>0</td>\n",
       "    </tr>\n",
       "    <tr>\n",
       "      <th>School Mental Health Specialist Program</th>\n",
       "      <td>10</td>\n",
       "      <td>144</td>\n",
       "      <td>4</td>\n",
       "    </tr>\n",
       "    <tr>\n",
       "      <th>School Response Team</th>\n",
       "      <td>1</td>\n",
       "      <td>12</td>\n",
       "      <td>0</td>\n",
       "    </tr>\n",
       "    <tr>\n",
       "      <th>School-based Health Center w/ Mental Health</th>\n",
       "      <td>26</td>\n",
       "      <td>161</td>\n",
       "      <td>0</td>\n",
       "    </tr>\n",
       "    <tr>\n",
       "      <th>School-based Mental Health Clinic</th>\n",
       "      <td>5</td>\n",
       "      <td>44</td>\n",
       "      <td>1</td>\n",
       "    </tr>\n",
       "  </tbody>\n",
       "</table>\n",
       "</div>"
      ],
      "text/plain": [
       "Restraints                                   Metal  No Restraints  Velcro\n",
       "Type of Service                                                          \n",
       "Community School MH                             13            129       1\n",
       "H+H School                                       4             11       0\n",
       "Prevention Intervention Program MH               4             33       0\n",
       "School Mental Health Specialist Program         10            144       4\n",
       "School Response Team                             1             12       0\n",
       "School-based Health Center w/ Mental Health     26            161       0\n",
       "School-based Mental Health Clinic                5             44       1"
      ]
     },
     "execution_count": 297,
     "metadata": {},
     "output_type": "execute_result"
    }
   ],
   "source": [
    "pd.crosstab(index=matches['Type of Service'], columns=matches['Restraints'])"
   ]
  },
  {
   "cell_type": "code",
   "execution_count": 300,
   "id": "2513af2f",
   "metadata": {},
   "outputs": [
    {
     "data": {
      "text/plain": [
       "(Restraints                                       Metal  No Restraints  \\\n",
       " Type of Service                                                         \n",
       " Community School MH                          14.940299     126.636816   \n",
       " H+H School                                    1.567164      13.283582   \n",
       " Prevention Intervention Program MH            3.865672      32.766169   \n",
       " School Mental Health Specialist Program      16.507463     139.920398   \n",
       " School Response Team                          1.358209      11.512438   \n",
       " School-based Health Center w/ Mental Health  19.537313     165.601990   \n",
       " School-based Mental Health Clinic             5.223881      44.278607   \n",
       " \n",
       " Restraints                                     Velcro  \n",
       " Type of Service                                        \n",
       " Community School MH                          1.422886  \n",
       " H+H School                                   0.149254  \n",
       " Prevention Intervention Program MH           0.368159  \n",
       " School Mental Health Specialist Program      1.572139  \n",
       " School Response Team                         0.129353  \n",
       " School-based Health Center w/ Mental Health  1.860697  \n",
       " School-based Mental Health Clinic            0.497512  ,\n",
       " Restraints                                   Metal  No Restraints  Velcro\n",
       " Type of Service                                                          \n",
       " Community School MH                             13            129       1\n",
       " H+H School                                       4             11       0\n",
       " Prevention Intervention Program MH               4             33       0\n",
       " School Mental Health Specialist Program         10            144       4\n",
       " School Response Team                             1             12       0\n",
       " School-based Health Center w/ Mental Health     26            161       0\n",
       " School-based Mental Health Clinic                5             44       1,\n",
       "                  test    lambda       chi2   dof      pval    cramer     power\n",
       " 0             pearson  1.000000  16.438098  12.0  0.171984  0.076376  0.413029\n",
       " 1        cressie-read  0.666667  16.081827  12.0  0.187517  0.075544  0.403667\n",
       " 2      log-likelihood  0.000000  16.831189  12.0  0.156059  0.077284  0.423336\n",
       " 3       freeman-tukey -0.500000        NaN  12.0       NaN       NaN       NaN\n",
       " 4  mod-log-likelihood -1.000000        inf  12.0  0.000000       inf  1.000000\n",
       " 5              neyman -2.000000        NaN  12.0       NaN       NaN       NaN)"
      ]
     },
     "execution_count": 300,
     "metadata": {},
     "output_type": "execute_result"
    }
   ],
   "source": [
    "pg.chi2_independence(matches, x='Type of Service', y='Restraints')"
   ]
  },
  {
   "cell_type": "code",
   "execution_count": 301,
   "id": "232b4b93",
   "metadata": {},
   "outputs": [
    {
     "data": {
      "text/plain": [
       "(Scanning Incident                                     N          Y\n",
       " Type of Service                                                   \n",
       " Community School MH                          128.771144  14.228856\n",
       " H+H School                                    13.507463   1.492537\n",
       " Prevention Intervention Program MH            33.318408   3.681592\n",
       " School Mental Health Specialist Program      142.278607  15.721393\n",
       " School Response Team                          11.706468   1.293532\n",
       " School-based Health Center w/ Mental Health  168.393035  18.606965\n",
       " School-based Mental Health Clinic             45.024876   4.975124,\n",
       " Scanning Incident                              N   Y\n",
       " Type of Service                                     \n",
       " Community School MH                          128  15\n",
       " H+H School                                    15   0\n",
       " Prevention Intervention Program MH            37   0\n",
       " School Mental Health Specialist Program      147  11\n",
       " School Response Team                          13   0\n",
       " School-based Health Center w/ Mental Health  160  27\n",
       " School-based Mental Health Clinic             43   7,\n",
       "                  test    lambda       chi2  dof      pval    cramer     power\n",
       " 0             pearson  1.000000  13.922674  6.0  0.030512  0.099404  0.810028\n",
       " 1        cressie-read  0.666667  15.063556  6.0  0.019768  0.103397  0.844731\n",
       " 2      log-likelihood  0.000000  19.978446  6.0  0.002794  0.119076  0.939992\n",
       " 3       freeman-tukey -0.500000        NaN  6.0       NaN       NaN       NaN\n",
       " 4  mod-log-likelihood -1.000000        inf  6.0  0.000000       inf  1.000000\n",
       " 5              neyman -2.000000        NaN  6.0       NaN       NaN       NaN)"
      ]
     },
     "execution_count": 301,
     "metadata": {},
     "output_type": "execute_result"
    }
   ],
   "source": [
    "pg.chi2_independence(matches, x='Type of Service', y='Scanning Incident')"
   ]
  },
  {
   "cell_type": "code",
   "execution_count": 314,
   "id": "2075c072",
   "metadata": {},
   "outputs": [],
   "source": [
    "plot_data = pd.crosstab(index=matches['Type of Service'], columns=matches['Scanning Incident'], margins=True)"
   ]
  },
  {
   "cell_type": "code",
   "execution_count": 323,
   "id": "114151cb",
   "metadata": {},
   "outputs": [],
   "source": [
    "plot_data['y_prop'] = plot_data['Y'] / plot_data['All'] * 100\n",
    "plot_data['n_prop'] = plot_data['N'] / plot_data['All'] * 100"
   ]
  },
  {
   "cell_type": "code",
   "execution_count": 333,
   "id": "99164b11",
   "metadata": {},
   "outputs": [
    {
     "data": {
      "image/png": "[encoded data removed]",
      "text/plain": [
       "<Figure size 432x288 with 1 Axes>"
      ]
     },
     "metadata": {
      "needs_background": "light"
     },
     "output_type": "display_data"
    }
   ],
   "source": [
    "no_bar = sns.barplot(data=plot_data, y=plot_data.index, x=[100] * 8, color='darkblue')\n",
    "yes_bar = sns.barplot(data=plot_data, y=plot_data.index, x='y_prop', color='lightblue')"
   ]
  },
  {
   "cell_type": "code",
   "execution_count": 360,
   "id": "50427e77",
   "metadata": {},
   "outputs": [
    {
     "data": {
      "text/plain": [
       "Index(['Unnamed: 0_x', 'ATS System Code', 'Location Name_x', 'Primary Address',\n",
       "       'Area', 'Zip Code', 'Type of Service', 'DBN', 'School Name', 'Year',\n",
       "       'Total Enrollment', 'Grade 3K+PK (Half Day & Full Day)', 'Grade K',\n",
       "       'Grade 1', 'Grade 2', 'Grade 3', 'Grade 4', 'Grade 5', 'Grade 6',\n",
       "       'Grade 7', 'Grade 8', 'Grade 9', 'Grade 10', 'Grade 11', 'Grade 12',\n",
       "       '# Female', '% Female', '# Male', '% Male', '# Asian', '% Asian',\n",
       "       '# Black', '% Black', '# Hispanic', '% Hispanic', '# Multi-Racial',\n",
       "       '% Multi-Racial', '# Native American', '% Native American', '# White',\n",
       "       '% White', '# Missing Race/Ethnicity Data',\n",
       "       '% Missing Race/Ethnicity Data', '# Students with Disabilities',\n",
       "       '% Students with Disabilities', '# English Language Learners',\n",
       "       '% English Language Learners', '# Poverty', '% Poverty',\n",
       "       'Economic Need Index', 'Location Name_y', 'link', 'Unnamed: 0_y',\n",
       "       'School Campus', 'Intervention Type', 'Incident Location',\n",
       "       'Greater Than 21', 'Scanning Type', 'Scanning Incident',\n",
       "       'School Related', 'School Hours', 'Enforcment By', 'Restraints',\n",
       "       'Force', 'Type Of Force', 'Top Charge', 'SummonsCharge',\n",
       "       'Classification'],\n",
       "      dtype='object')"
      ]
     },
     "execution_count": 360,
     "metadata": {},
     "output_type": "execute_result"
    }
   ],
   "source": [
    "matches.columns"
   ]
  },
  {
   "cell_type": "code",
   "execution_count": 339,
   "id": "d9198ff5",
   "metadata": {},
   "outputs": [
    {
     "data": {
      "text/plain": [
       "845"
      ]
     },
     "execution_count": 339,
     "metadata": {},
     "output_type": "execute_result"
    }
   ],
   "source": []
  },
  {
   "cell_type": "code",
   "execution_count": null,
   "id": "382c9068",
   "metadata": {},
   "outputs": [],
   "source": []
  }
 ],
 "metadata": {
  "kernelspec": {
   "display_name": "Python 3",
   "language": "python",
   "name": "python3"
  },
  "language_info": {
   "codemirror_mode": {
    "name": "ipython",
    "version": 3
   },
   "file_extension": ".py",
   "mimetype": "text/x-python",
   "name": "python",
   "nbconvert_exporter": "python",
   "pygments_lexer": "ipython3",
   "version": "3.7.3"
  },
  "varInspector": {
   "cols": {
    "lenName": 16,
    "lenType": 16,
    "lenVar": 40
   },
   "kernels_config": {
    "python": {
     "delete_cmd_postfix": "",
     "delete_cmd_prefix": "del ",
     "library": "var_list.py",
     "varRefreshCmd": "print(var_dic_list())"
    },
    "r": {
     "delete_cmd_postfix": ") ",
     "delete_cmd_prefix": "rm(",
     "library": "var_list.r",
     "varRefreshCmd": "cat(var_dic_list()) "
    }
   },
   "types_to_exclude": [
    "module",
    "function",
    "builtin_function_or_method",
    "instance",
    "_Feature"
   ],
   "window_display": false
  }
 },
 "nbformat": 4,
 "nbformat_minor": 5
}
